{
 "cells": [
  {
   "cell_type": "code",
   "execution_count": 1,
   "metadata": {},
   "outputs": [
    {
     "name": "stderr",
     "output_type": "stream",
     "text": [
      "/home/ly/anaconda3/envs/learning/lib/python3.6/site-packages/h5py/__init__.py:36: FutureWarning: Conversion of the second argument of issubdtype from `float` to `np.floating` is deprecated. In future, it will be treated as `np.float64 == np.dtype(float).type`.\n",
      "  from ._conv import register_converters as _register_converters\n"
     ]
    }
   ],
   "source": [
    "# 正则化 — 使用Gluon\n",
    "# http://zh.gluon.ai/chapter_supervised-learning/reg-gluon.html\n",
    "\n",
    "#高维线性回归数据集\n",
    "from mxnet import ndarray as nd\n",
    "from mxnet import autograd\n",
    "from mxnet import gluon\n",
    "import mxnet as mx\n",
    "\n",
    "num_train = 20\n",
    "num_test = 100\n",
    "num_inputs = 200\n",
    "\n",
    "true_w = nd.ones((num_inputs, 1)) * 0.01\n",
    "true_b = 0.05\n",
    "\n",
    "X = nd.random.normal(shape=(num_train + num_test, num_inputs))\n",
    "y = nd.dot(X, true_w) + true_b\n",
    "y += .01 * nd.random.normal(shape=y.shape)\n",
    "\n",
    "X_train, X_test = X[:num_train, :], X[num_train:, :]\n",
    "y_train, y_test = y[:num_train], y[num_train:]"
   ]
  },
  {
   "cell_type": "code",
   "execution_count": 2,
   "metadata": {},
   "outputs": [],
   "source": [
    "# 定义训练和测试\n",
    "%matplotlib inline\n",
    "import matplotlib as mpl\n",
    "mpl.rcParams['figure.dpi'] = 120\n",
    "import matplotlib.pyplot as plt\n",
    "import numpy as np\n",
    "\n",
    "batch_size = 1\n",
    "dataset_train = gluon.data.ArrayDataset(X_train, y_train)\n",
    "data_iter_train = gluon.data.DataLoader(dataset_train, batch_size, shuffle=True)\n",
    "\n",
    "square_loss = gluon.loss.L2Loss()\n",
    "\n",
    "def test(net, X, y):\n",
    "    return square_loss(net(X), y).mean().asscalar()\n",
    "\n",
    "def train(weight_decay):\n",
    "    epochs = 10\n",
    "    learning_rate = 0.005\n",
    "    net = gluon.nn.Sequential()\n",
    "    with net.name_scope():\n",
    "        net.add(gluon.nn.Dense(1))\n",
    "    net.collect_params().initialize(mx.init.Normal(sigma=1))\n",
    "\n",
    "    # 注意到这里 'wd'\n",
    "    trainer = gluon.Trainer(net.collect_params(), 'sgd', {\n",
    "        'learning_rate': learning_rate, 'wd': weight_decay})\n",
    "\n",
    "    train_loss = []\n",
    "    test_loss = []\n",
    "    for e in range(epochs):\n",
    "        for data, label in data_iter_train:\n",
    "            with autograd.record():\n",
    "                output = net(data)\n",
    "                loss = square_loss(output, label)\n",
    "            loss.backward()\n",
    "            trainer.step(batch_size)\n",
    "        train_loss.append(test(net, X_train, y_train))\n",
    "        test_loss.append(test(net, X_test, y_test))\n",
    "    plt.plot(train_loss)\n",
    "    plt.plot(test_loss)\n",
    "    plt.legend(['train','test'])\n",
    "    plt.show()\n",
    "\n",
    "    return ('learned w[:10]:', net[0].weight.data()[:,:10],\n",
    "            'learned b:', net[0].bias.data())"
   ]
  },
  {
   "cell_type": "code",
   "execution_count": 5,
   "metadata": {},
   "outputs": [
    {
     "data": {
      "image/png": "[encoded data removed]",
      "text/plain": [
       "<Figure size 432x288 with 1 Axes>"
      ]
     },
     "metadata": {},
     "output_type": "display_data"
    },
    {
     "name": "stdout",
     "output_type": "stream",
     "text": [
      "('learned w[:10]:', \n",
      "[[ 0.5558093   0.86420417 -0.45820528  1.5273323   0.7745043   0.0993899\n",
      "   1.5138979  -0.11312011 -1.3944868  -1.2200668 ]]\n",
      "<NDArray 1x10 @cpu(0)>, 'learned b:', \n",
      "[0.29741624]\n",
      "<NDArray 1 @cpu(0)>)\n",
      "\n",
      "[[0.01]\n",
      " [0.01]\n",
      " [0.01]\n",
      " [0.01]\n",
      " [0.01]\n",
      " [0.01]\n",
      " [0.01]\n",
      " [0.01]\n",
      " [0.01]\n",
      " [0.01]]\n",
      "<NDArray 10x1 @cpu(0)> 0.05\n"
     ]
    }
   ],
   "source": [
    "print(train(0))\n",
    "print(true_w[:10], true_b)"
   ]
  },
  {
   "cell_type": "code",
   "execution_count": 6,
   "metadata": {},
   "outputs": [
    {
     "data": {
      "image/png": "[encoded data removed]",
      "text/plain": [
       "<Figure size 432x288 with 1 Axes>"
      ]
     },
     "metadata": {},
     "output_type": "display_data"
    },
    {
     "name": "stdout",
     "output_type": "stream",
     "text": [
      "('learned w[:10]:', \n",
      "[[ 0.00114495  0.00651995 -0.00249216  0.00590799  0.0039797  -0.00107584\n",
      "   0.00108405  0.00677961  0.00180512 -0.00501487]]\n",
      "<NDArray 1x10 @cpu(0)>, 'learned b:', \n",
      "[0.0101903]\n",
      "<NDArray 1 @cpu(0)>)\n",
      "\n",
      "[[0.01]\n",
      " [0.01]\n",
      " [0.01]\n",
      " [0.01]\n",
      " [0.01]\n",
      " [0.01]\n",
      " [0.01]\n",
      " [0.01]\n",
      " [0.01]\n",
      " [0.01]]\n",
      "<NDArray 10x1 @cpu(0)> 0.05\n"
     ]
    }
   ],
   "source": [
    "print(train(5))\n",
    "print(true_w[:10], true_b)"
   ]
  }
 ],
 "metadata": {
  "kernelspec": {
   "display_name": "Python 3",
   "language": "python",
   "name": "python3"
  },
  "language_info": {
   "codemirror_mode": {
    "name": "ipython",
    "version": 3
   },
   "file_extension": ".py",
   "mimetype": "text/x-python",
   "name": "python",
   "nbconvert_exporter": "python",
   "pygments_lexer": "ipython3",
   "version": "3.6.4"
  }
 },
 "nbformat": 4,
 "nbformat_minor": 2
}
