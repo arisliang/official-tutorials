{
 "cells": [
  {
   "cell_type": "code",
   "execution_count": 1,
   "metadata": {},
   "outputs": [
    {
     "name": "stderr",
     "output_type": "stream",
     "text": [
      "/home/ly/anaconda3/envs/learning/lib/python3.6/site-packages/h5py/__init__.py:36: FutureWarning: Conversion of the second argument of issubdtype from `float` to `np.floating` is deprecated. In future, it will be treated as `np.float64 == np.dtype(float).type`.\n",
      "  from ._conv import register_converters as _register_converters\n"
     ]
    }
   ],
   "source": [
    "# 批量归一化 — 从0开始\n",
    "# http://zh.gluon.ai/chapter_convolutional-neural-networks/batch-norm-scratch.html\n",
    "\n",
    "# 简化的批量归一化层\n",
    "from mxnet import nd\n",
    "def pure_batch_norm(X, gamma, beta, eps=1e-5):\n",
    "    assert len(X.shape) in (2, 4)\n",
    "    # either 2 or 4, why? 2 is for fc. 4 is for 2d convnet.\n",
    "    # TODO: what about 1d or 3d convnet?\n",
    "    # where is gamma, and beta come from? these are learnable\n",
    "    \n",
    "    # 全连接: batch_size x feature\n",
    "    if len(X.shape) == 2:\n",
    "        # 每个输入维度在样本上的平均和方差\n",
    "        mean = X.mean(axis=0)\n",
    "        variance = ((X - mean)**2).mean(axis=0)\n",
    "    # 2D卷积: batch_size x channel x height x width\n",
    "    else:\n",
    "        # 对每个通道算均值和方差，需要保持4D形状使得可以正确地广播\n",
    "        mean = X.mean(axis=(0, 2, 3), keepdims=True)\n",
    "        variance = ((X-mean)**2).mean(axis=(0,2,3), keepdims=True)\n",
    "    \n",
    "    # 均一化\n",
    "    X_hat = (X - mean) / nd.sqrt(variance + eps)\n",
    "    # 拉升和偏移\n",
    "    return gamma.reshape(mean.shape) * X_hat + beta.reshape(mean.shape)"
   ]
  },
  {
   "cell_type": "code",
   "execution_count": 3,
   "metadata": {},
   "outputs": [
    {
     "data": {
      "text/plain": [
       "\n",
       "[[0. 1.]\n",
       " [2. 3.]\n",
       " [4. 5.]]\n",
       "<NDArray 3x2 @cpu(0)>"
      ]
     },
     "execution_count": 3,
     "metadata": {},
     "output_type": "execute_result"
    }
   ],
   "source": [
    "A = nd.arange(6).reshape((3,2))\n",
    "A"
   ]
  },
  {
   "cell_type": "code",
   "execution_count": 4,
   "metadata": {},
   "outputs": [
    {
     "data": {
      "text/plain": [
       "\n",
       "[[-1.2247427 -1.2247427]\n",
       " [ 0.         0.       ]\n",
       " [ 1.2247427  1.2247427]]\n",
       "<NDArray 3x2 @cpu(0)>"
      ]
     },
     "execution_count": 4,
     "metadata": {},
     "output_type": "execute_result"
    }
   ],
   "source": [
    "pure_batch_norm(A, gamma=nd.array([1,1]), beta=nd.array([0,0]))"
   ]
  },
  {
   "cell_type": "code",
   "execution_count": 5,
   "metadata": {},
   "outputs": [
    {
     "data": {
      "text/plain": [
       "\n",
       "[[[[ 0.  1.  2.]\n",
       "   [ 3.  4.  5.]\n",
       "   [ 6.  7.  8.]]\n",
       "\n",
       "  [[ 9. 10. 11.]\n",
       "   [12. 13. 14.]\n",
       "   [15. 16. 17.]]]]\n",
       "<NDArray 1x2x3x3 @cpu(0)>"
      ]
     },
     "execution_count": 5,
     "metadata": {},
     "output_type": "execute_result"
    }
   ],
   "source": [
    "B = nd.arange(18).reshape((1,2,3,3))\n",
    "B"
   ]
  },
  {
   "cell_type": "code",
   "execution_count": 6,
   "metadata": {},
   "outputs": [
    {
     "data": {
      "text/plain": [
       "\n",
       "[[[[-1.5491922  -1.1618942  -0.7745961 ]\n",
       "   [-0.38729805  0.          0.38729805]\n",
       "   [ 0.7745961   1.1618942   1.5491922 ]]\n",
       "\n",
       "  [[-1.5491922  -1.1618942  -0.7745961 ]\n",
       "   [-0.38729805  0.          0.38729805]\n",
       "   [ 0.7745961   1.1618942   1.5491922 ]]]]\n",
       "<NDArray 1x2x3x3 @cpu(0)>"
      ]
     },
     "execution_count": 6,
     "metadata": {},
     "output_type": "execute_result"
    }
   ],
   "source": [
    "pure_batch_norm(B, gamma=nd.array([1,1]), beta=nd.array([0,0]))"
   ]
  },
  {
   "cell_type": "code",
   "execution_count": 51,
   "metadata": {},
   "outputs": [],
   "source": [
    "# 批量归一化层\n",
    "def batch_norm(X, gamma, beta, is_training,\n",
    "               moving_mean, moving_variance,\n",
    "              eps=1e-5, moving_momentum=0.9):\n",
    "    assert len(X.shape) in (2, 4)\n",
    "    # 全连接: batch_size x feature\n",
    "    if len(X.shape) == 2:\n",
    "        # 每个输入维度在样本上的平均和方差\n",
    "        mean = X.mean(axis=0)\n",
    "        variance = ((X - mean)**2).mean(axis=0)\n",
    "    # 2D卷积: batch_size x channel x height x width\n",
    "    else:\n",
    "        # 对每个通道算均值和方差，需要保持4D形状使得可以正确的广播\n",
    "        mean = X.mean(axis=(0,2,3), keepdims=True)\n",
    "        variance = ((X - mean)**2).mean(axis=(0,2,3), keepdims=True)\n",
    "        # 变形使得可以正确的广播\n",
    "        moving_mean = moving_mean.reshape(mean.shape)\n",
    "        moving_variance = moving_variance.reshape(mean.shape)\n",
    "    \n",
    "    # 均一化\n",
    "    if is_training:\n",
    "        X_hat = (X - mean) / nd.sqrt(variance + eps)\n",
    "        #!!! 更新全局的均值和方差\n",
    "        moving_mean[:] = moving_momentum * moving_mean\n",
    "        + (1.0 - moving_momentum) * mean\n",
    "        moving_variance[:] = moving_momentum * moving_variance\n",
    "        + (1.0 - moving_momentum) * variance\n",
    "    else:\n",
    "        #!!! 测试阶段使用全局的均值和方差\n",
    "        X_hat = (X - moving_mean) / nd.sqrt(moving_variance + eps)\n",
    "#         print('moving mean:', moving_mean)\n",
    "    \n",
    "    # 拉升和偏移\n",
    "    return gamma.reshape(mean.shape) * X_hat + beta.reshape(mean.shape)"
   ]
  },
  {
   "cell_type": "code",
   "execution_count": 9,
   "metadata": {},
   "outputs": [
    {
     "data": {
      "text/plain": [
       "gpu(0)"
      ]
     },
     "execution_count": 9,
     "metadata": {},
     "output_type": "execute_result"
    }
   ],
   "source": [
    "# 定义模型\n",
    "import sys\n",
    "sys.path.append('..')\n",
    "import utils\n",
    "ctx = utils.try_gpu()\n",
    "ctx"
   ]
  },
  {
   "cell_type": "code",
   "execution_count": 22,
   "metadata": {},
   "outputs": [],
   "source": [
    "from mxnet import autograd\n",
    "from mxnet import gluon\n",
    "\n",
    "batch_size = 256\n",
    "def transform(data, label):\n",
    "#     print(data.shape)\n",
    "#     print(label.shape)\n",
    "# change data from batch x height x width x channel\n",
    "# to batch x channel x height x width\n",
    "#     return nd.transpose(data.astype('float32'), (0,3,1,2))/255, label.astype('float32')\n",
    "    return nd.transpose(data.astype('float32'), (2,0,1))/255, label.astype('float32')\n",
    "#     return data.astype('float32') / 255, label.astype('float32')\n",
    "mnist_train = gluon.data.vision.FashionMNIST(train=True, transform=transform)\n",
    "mnist_test = gluon.data.vision.FashionMNIST(train=False, transform=transform)\n",
    "train_data = gluon.data.DataLoader(mnist_train, batch_size, shuffle=True)\n",
    "test_data = gluon.data.DataLoader(mnist_test, batch_size, shuffle=False)"
   ]
  },
  {
   "cell_type": "code",
   "execution_count": 48,
   "metadata": {},
   "outputs": [],
   "source": [
    "weight_scale = 0.01\n",
    "\n",
    "# 输出通道 = 20, 卷积核 = (5,5)\n",
    "c1 = 20\n",
    "W1 = nd.random.normal(shape=(c1, 1, 5, 5), scale=weight_scale, ctx=ctx)\n",
    "b1 = nd.zeros(c1, ctx=ctx)\n",
    "\n",
    "# 第1层批量归一化\n",
    "gamma1 = nd.random.normal(shape=c1, scale=weight_scale, ctx=ctx)\n",
    "beta1 = nd.random.normal(shape=c1, scale=weight_scale, ctx=ctx)\n",
    "moving_mean1 = nd.zeros(c1, ctx=ctx)\n",
    "moving_variance1 = nd.ones(c1, ctx=ctx)\n",
    "\n",
    "# 输出通道 = 50, 卷积核 = (3,3)\n",
    "c2 = 50\n",
    "W2 = nd.random_normal(shape=(c2, c1, 3, 3), scale=weight_scale, ctx=ctx)\n",
    "b2 = nd.zeros(c2, ctx=ctx)\n",
    "\n",
    "# 第2层批量归一化\n",
    "gamma2 = nd.random.normal(shape=c2, scale=weight_scale, ctx=ctx)\n",
    "beta2 = nd.random.normal(shape=c2, scale=weight_scale, ctx=ctx)\n",
    "moving_mean2 = nd.zeros(c2, ctx=ctx)\n",
    "moving_variance2 = nd.ones(c2, ctx=ctx)\n",
    "\n",
    "# 输出维度 = 128\n",
    "o3 = 128\n",
    "# why 1250?\n",
    "# 从conv (kernel, stride), pooling(kernel, stride), flatten计算出来的\n",
    "W3 = nd.random.normal(shape=(1250, o3), scale=weight_scale, ctx=ctx)\n",
    "b3 = nd.zeros(o3, ctx=ctx)\n",
    "\n",
    "# 输出维度 = 10\n",
    "o4 = 10\n",
    "W4 = nd.random_normal(shape=(o3, o4), scale=weight_scale, ctx=ctx)\n",
    "b4 = nd.zeros(o4, ctx=ctx)\n",
    "\n",
    "# 注意这里moving_*是不需要更新的\n",
    "params = [W1, b1, gamma1, beta1,\n",
    "         W2, b2, gamma2, beta2,\n",
    "         W3, b3, W4, b4]\n",
    "\n",
    "for param in params:\n",
    "    param.attach_grad()"
   ]
  },
  {
   "cell_type": "code",
   "execution_count": 49,
   "metadata": {},
   "outputs": [],
   "source": [
    "def net(X, is_training=False, verbose=False):\n",
    "    X = X.as_in_context(W1.context)\n",
    "    # 第一层卷积\n",
    "    h1_conv = nd.Convolution(\n",
    "        data=X, weight=W1, bias=b1, kernel=W1.shape[2:], num_filter=c1\n",
    "    )\n",
    "    ### 添加了批量归一化层\n",
    "    h1_bn = batch_norm(h1_conv, gamma1, beta1, is_training,\n",
    "                      moving_mean1, moving_variance1)\n",
    "    h1_activation = nd.relu(h1_bn)\n",
    "    h1 = nd.Pooling(data=h1_activation, pool_type='max',\n",
    "                   kernel=(2, 2), stride=(2,2))\n",
    "    # 第二层卷积\n",
    "    h2_conv = nd.Convolution(\n",
    "        data=h1, weight=W2, bias=b2, kernel=W2.shape[2:], num_filter=c2\n",
    "    )\n",
    "    h2_bn = batch_norm(h2_conv, gamma2, beta2, is_training,\n",
    "                      moving_mean2, moving_variance2)\n",
    "    h2_activation = nd.relu(h2_bn)\n",
    "    h2 = nd.Pooling(data=h2_activation, pool_type='max',\n",
    "                   kernel=(2,2), stride=(2,2))\n",
    "    h2 = nd.flatten(h2)\n",
    "    # 第一层全连接\n",
    "    h3_linear = nd.dot(h2, W3) + b3\n",
    "    h3 = nd.relu(h3_linear)\n",
    "    # 第二层全连接\n",
    "    h4_linear = nd.dot(h3, W4) + b4\n",
    "    if verbose:\n",
    "        print('X:', X.shape)\n",
    "        print('1st conv block:', h1.shape)\n",
    "        print('2nd conv block:', h2.shape)\n",
    "        print('1st dense:', h3.shape)\n",
    "        print('2nd dense:', h4_linear.shape)\n",
    "        print('output:', h4_linear)\n",
    "    return h4_linear"
   ]
  },
  {
   "cell_type": "code",
   "execution_count": 52,
   "metadata": {},
   "outputs": [
    {
     "name": "stdout",
     "output_type": "stream",
     "text": [
      "Epoch 0. Loss: 0.525445, Train acc 0.797435, Test acc 0.790430\n",
      "Epoch 1. Loss: 0.411807, Train acc 0.845761, Test acc 0.819434\n",
      "Epoch 2. Loss: 0.353961, Train acc 0.868163, Test acc 0.832617\n",
      "Epoch 3. Loss: 0.323986, Train acc 0.880075, Test acc 0.829883\n",
      "Epoch 4. Loss: 0.299802, Train acc 0.889644, Test acc 0.843164\n",
      "Epoch 5. Loss: 0.284036, Train acc 0.894166, Test acc 0.863086\n",
      "Epoch 6. Loss: 0.271367, Train acc 0.898997, Test acc 0.806445\n",
      "Epoch 7. Loss: 0.258008, Train acc 0.904028, Test acc 0.855566\n",
      "Epoch 8. Loss: 0.246977, Train acc 0.908793, Test acc 0.860352\n",
      "Epoch 9. Loss: 0.235529, Train acc 0.913259, Test acc 0.843262\n"
     ]
    }
   ],
   "source": [
    "softmax_cross_entropy = gluon.loss.SoftmaxCrossEntropyLoss()\n",
    "\n",
    "learning_rate = 0.2\n",
    "\n",
    "for epoch in range(10):\n",
    "    train_loss = 0.\n",
    "    train_acc = 0.\n",
    "    for data, label in train_data:\n",
    "        label = label.as_in_context(ctx)\n",
    "        with autograd.record():\n",
    "            output = net(data, is_training=True, verbose=False)\n",
    "            loss = softmax_cross_entropy(output, label)\n",
    "        loss.backward()\n",
    "        utils.SGD(params, learning_rate / batch_size)\n",
    "        \n",
    "        train_loss += nd.mean(loss).asscalar()\n",
    "        train_acc += utils.accuracy(output, label)\n",
    "        \n",
    "    test_acc = utils.evaluate_accuracy(test_data, net, ctx)\n",
    "    print(\"Epoch %d. Loss: %f, Train acc %f, Test acc %f\" % (\n",
    "            epoch, train_loss/len(train_data), train_acc/len(train_data), test_acc))"
   ]
  }
 ],
 "metadata": {
  "kernelspec": {
   "display_name": "Python 3",
   "language": "python",
   "name": "python3"
  },
  "language_info": {
   "codemirror_mode": {
    "name": "ipython",
    "version": 3
   },
   "file_extension": ".py",
   "mimetype": "text/x-python",
   "name": "python",
   "nbconvert_exporter": "python",
   "pygments_lexer": "ipython3",
   "version": "3.6.4"
  }
 },
 "nbformat": 4,
 "nbformat_minor": 2
}
