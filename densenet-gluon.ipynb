{
 "cells": [
  {
   "cell_type": "code",
   "execution_count": 1,
   "metadata": {},
   "outputs": [
    {
     "name": "stderr",
     "output_type": "stream",
     "text": [
      "/home/ly/anaconda3/envs/learning/lib/python3.6/site-packages/h5py/__init__.py:36: FutureWarning: Conversion of the second argument of issubdtype from `float` to `np.floating` is deprecated. In future, it will be treated as `np.float64 == np.dtype(float).type`.\n",
      "  from ._conv import register_converters as _register_converters\n"
     ]
    }
   ],
   "source": [
    "# DenseNet：稠密连接的卷积神经网络\n",
    "# http://zh.gluon.ai/chapter_convolutional-neural-networks/densenet-gluon.html\n",
    "\n",
    "from mxnet import nd\n",
    "from mxnet.gluon import nn\n",
    "\n",
    "def conv_block(channels):\n",
    "    out = nn.Sequential()\n",
    "    out.add(\n",
    "        nn.BatchNorm(),\n",
    "        nn.Activation('relu'),\n",
    "        nn.Conv2D(channels, kernel_size=3, padding=1)\n",
    "    )\n",
    "    return out\n",
    "\n",
    "class DenseBlock(nn.Block):\n",
    "    def __init__(self, layers, growth_rate, **kwargs):\n",
    "        super(DenseBlock, self).__init__(**kwargs)\n",
    "        self.net = nn.Sequential()\n",
    "        for i in range(layers):\n",
    "            self.net.add(conv_block(growth_rate))\n",
    "    \n",
    "    def forward(self, x):\n",
    "        for layer in self.net:\n",
    "            out = layer(x)\n",
    "            x = nd.concat(x, out, dim=1)\n",
    "        return x"
   ]
  },
  {
   "cell_type": "code",
   "execution_count": 2,
   "metadata": {},
   "outputs": [
    {
     "data": {
      "text/plain": [
       "(4, 23, 8, 8)"
      ]
     },
     "execution_count": 2,
     "metadata": {},
     "output_type": "execute_result"
    }
   ],
   "source": [
    "dblk = DenseBlock(2, 10)\n",
    "dblk.initialize()\n",
    "\n",
    "x = nd.random.uniform(shape=(4, 3, 8, 8))\n",
    "dblk(x).shape"
   ]
  },
  {
   "cell_type": "code",
   "execution_count": 3,
   "metadata": {},
   "outputs": [],
   "source": [
    "# 过渡块（Transition Block）\n",
    "def transition_block(channels):\n",
    "    out = nn.Sequential()\n",
    "    out.add(\n",
    "        nn.BatchNorm(),\n",
    "        nn.Activation('relu'),\n",
    "        nn.Conv2D(channels, kernel_size=1),\n",
    "        nn.AvgPool2D(pool_size=2, strides=2)\n",
    "    )\n",
    "    return out"
   ]
  },
  {
   "cell_type": "code",
   "execution_count": 4,
   "metadata": {},
   "outputs": [
    {
     "data": {
      "text/plain": [
       "(4, 10, 4, 4)"
      ]
     },
     "execution_count": 4,
     "metadata": {},
     "output_type": "execute_result"
    }
   ],
   "source": [
    "tblk = transition_block(10)\n",
    "tblk.initialize()\n",
    "\n",
    "tblk(x).shape"
   ]
  },
  {
   "cell_type": "code",
   "execution_count": 5,
   "metadata": {},
   "outputs": [],
   "source": [
    "# DenseNet\n",
    "init_channels = 64\n",
    "growth_rate = 32\n",
    "block_layers = [6, 12, 24, 16]\n",
    "num_classes = 10\n",
    "\n",
    "def dense_net():\n",
    "    net = nn.Sequential()\n",
    "    # add name_scope on the outermost Sequential\n",
    "    with net.name_scope():\n",
    "        # first block\n",
    "        net.add(\n",
    "            nn.Conv2D(init_channels, kernel_size=7,\n",
    "                      strides=2, padding=3),\n",
    "            nn.BatchNorm(),\n",
    "            nn.Activation('relu'),\n",
    "            nn.MaxPool2D(pool_size=3, strides=2, padding=1)\n",
    "        )\n",
    "        # dense blocks\n",
    "        channels = init_channels\n",
    "        for i, layers in enumerate(block_layers):\n",
    "            net.add(DenseBlock(layers, growth_rate))\n",
    "            channels += layers * growth_rate\n",
    "            if i != len(block_layers) - 1:\n",
    "                net.add(transition_block(channels // 2))\n",
    "        # last block\n",
    "        net.add(\n",
    "            nn.BatchNorm(),\n",
    "            nn.Activation('relu'),\n",
    "#             nn.AvgPool2D(pool_size=1),\n",
    "            nn.GlobalAvgPool2D(),\n",
    "            # TODO: not global pooling?\n",
    "            nn.Flatten(),\n",
    "            nn.Dense(num_classes)\n",
    "        )\n",
    "    return net\n",
    "\n",
    "# net = dense_net()\n",
    "# net.initialize()\n",
    "# x = nd.random.uniform(shape=(4,3,299, 299))\n",
    "# y = net(x)\n",
    "# print(net)"
   ]
  },
  {
   "cell_type": "code",
   "execution_count": 6,
   "metadata": {
    "scrolled": false
   },
   "outputs": [],
   "source": [
    "# 获取数据并训练\n",
    "import sys\n",
    "sys.path.append('..')\n",
    "import utils\n",
    "import mxnet as mx\n",
    "from mxnet import init\n",
    "\n",
    "batch_size = 32\n",
    "resize=224\n",
    "learning_rate = 0.1\n",
    "\n",
    "train_data, test_data = utils.load_data(batch_size=batch_size, resize=resize)\n",
    "\n",
    "ctx = utils.try_gpu(1)\n",
    "net = dense_net()\n",
    "net.initialize(ctx=ctx, init=init.Xavier())"
   ]
  },
  {
   "cell_type": "code",
   "execution_count": null,
   "metadata": {},
   "outputs": [],
   "source": [
    "utils.train(net=net, train_data=train_data, test_data=test_data,ctx=ctx,\n",
    "            batch_size=batch_size, learning_rate=learning_rate)"
   ]
  }
 ],
 "metadata": {
  "kernelspec": {
   "display_name": "Python 3",
   "language": "python",
   "name": "python3"
  },
  "language_info": {
   "codemirror_mode": {
    "name": "ipython",
    "version": 3
   },
   "file_extension": ".py",
   "mimetype": "text/x-python",
   "name": "python",
   "nbconvert_exporter": "python",
   "pygments_lexer": "ipython3",
   "version": "3.6.4"
  }
 },
 "nbformat": 4,
 "nbformat_minor": 2
}
