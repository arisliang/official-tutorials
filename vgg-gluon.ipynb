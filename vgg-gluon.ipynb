{
 "cells": [
  {
   "cell_type": "code",
   "execution_count": 1,
   "metadata": {},
   "outputs": [
    {
     "name": "stderr",
     "output_type": "stream",
     "text": [
      "/home/ly/anaconda3/envs/learning/lib/python3.6/site-packages/h5py/__init__.py:36: FutureWarning: Conversion of the second argument of issubdtype from `float` to `np.floating` is deprecated. In future, it will be treated as `np.float64 == np.dtype(float).type`.\n",
      "  from ._conv import register_converters as _register_converters\n"
     ]
    }
   ],
   "source": [
    "# VGG：使用重复元素的非常深的网络\n",
    "# http://zh.gluon.ai/chapter_convolutional-neural-networks/vgg-gluon.html\n",
    "\n",
    "# VGG架构\n",
    "from mxnet.gluon import nn\n",
    "\n",
    "def vgg_block(num_convs, channels):\n",
    "    out = nn.Sequential()\n",
    "    for _ in range(num_convs):\n",
    "        out.add(\n",
    "            nn.Conv2D(channels=channels, kernel_size=3,\n",
    "                     padding=1, activation='relu')\n",
    "        )\n",
    "    out.add(nn.MaxPool2D(pool_size=2, strides=2))\n",
    "    return out"
   ]
  },
  {
   "cell_type": "code",
   "execution_count": 2,
   "metadata": {},
   "outputs": [
    {
     "name": "stdout",
     "output_type": "stream",
     "text": [
      "Sequential(\n",
      "  (0): Conv2D(3 -> 128, kernel_size=(3, 3), stride=(1, 1), padding=(1, 1))\n",
      "  (1): Conv2D(128 -> 128, kernel_size=(3, 3), stride=(1, 1), padding=(1, 1))\n",
      "  (2): MaxPool2D(size=(2, 2), stride=(2, 2), padding=(0, 0), ceil_mode=False)\n",
      ")\n",
      "(2, 128, 8, 8)\n"
     ]
    }
   ],
   "source": [
    "from mxnet import nd\n",
    "\n",
    "blk = vgg_block(2, 128)\n",
    "blk.initialize()\n",
    "x = nd.random.uniform(shape=(2,3,16,16))\n",
    "y = blk(x)\n",
    "print(blk)\n",
    "print(y.shape)"
   ]
  },
  {
   "cell_type": "code",
   "execution_count": 3,
   "metadata": {},
   "outputs": [],
   "source": [
    "def vgg_stack(architecture):\n",
    "    out = nn.Sequential()\n",
    "    for (num_convs, channels) in architecture:\n",
    "        out.add(vgg_block(num_convs, channels))\n",
    "    return out"
   ]
  },
  {
   "cell_type": "code",
   "execution_count": 4,
   "metadata": {},
   "outputs": [
    {
     "name": "stdout",
     "output_type": "stream",
     "text": [
      "Sequential(\n",
      "  (0): Sequential(\n",
      "    (0): Sequential(\n",
      "      (0): Conv2D(None -> 64, kernel_size=(3, 3), stride=(1, 1), padding=(1, 1))\n",
      "      (1): MaxPool2D(size=(2, 2), stride=(2, 2), padding=(0, 0), ceil_mode=False)\n",
      "    )\n",
      "    (1): Sequential(\n",
      "      (0): Conv2D(None -> 128, kernel_size=(3, 3), stride=(1, 1), padding=(1, 1))\n",
      "      (1): MaxPool2D(size=(2, 2), stride=(2, 2), padding=(0, 0), ceil_mode=False)\n",
      "    )\n",
      "    (2): Sequential(\n",
      "      (0): Conv2D(None -> 256, kernel_size=(3, 3), stride=(1, 1), padding=(1, 1))\n",
      "      (1): Conv2D(None -> 256, kernel_size=(3, 3), stride=(1, 1), padding=(1, 1))\n",
      "      (2): MaxPool2D(size=(2, 2), stride=(2, 2), padding=(0, 0), ceil_mode=False)\n",
      "    )\n",
      "    (3): Sequential(\n",
      "      (0): Conv2D(None -> 512, kernel_size=(3, 3), stride=(1, 1), padding=(1, 1))\n",
      "      (1): Conv2D(None -> 512, kernel_size=(3, 3), stride=(1, 1), padding=(1, 1))\n",
      "      (2): MaxPool2D(size=(2, 2), stride=(2, 2), padding=(0, 0), ceil_mode=False)\n",
      "    )\n",
      "    (4): Sequential(\n",
      "      (0): Conv2D(None -> 512, kernel_size=(3, 3), stride=(1, 1), padding=(1, 1))\n",
      "      (1): Conv2D(None -> 512, kernel_size=(3, 3), stride=(1, 1), padding=(1, 1))\n",
      "      (2): MaxPool2D(size=(2, 2), stride=(2, 2), padding=(0, 0), ceil_mode=False)\n",
      "    )\n",
      "  )\n",
      "  (1): Flatten\n",
      "  (2): Dense(None -> 4096, Activation(relu))\n",
      "  (3): Dropout(p = 0.5, axes=())\n",
      "  (4): Dense(None -> 4096, Activation(relu))\n",
      "  (5): Dropout(p = 0.5, axes=())\n",
      "  (6): Dense(None -> 10, linear)\n",
      ")\n"
     ]
    }
   ],
   "source": [
    "num_outputs = 10\n",
    "architecture = ((1, 64), (1, 128), (2, 256), (2, 512), (2, 512))\n",
    "net = nn.Sequential()\n",
    "# add name_scope on the outermost Sequential\n",
    "with net.name_scope():\n",
    "    net.add(\n",
    "        vgg_stack(architecture),\n",
    "        nn.Flatten(),\n",
    "        nn.Dense(4096, activation='relu'),\n",
    "        nn.Dropout(0.5),\n",
    "        nn.Dense(4096, activation='relu'),\n",
    "        nn.Dropout(0.5),\n",
    "        nn.Dense(num_outputs)\n",
    "    )\n",
    "print(net)"
   ]
  },
  {
   "cell_type": "code",
   "execution_count": 5,
   "metadata": {},
   "outputs": [],
   "source": [
    "import sys\n",
    "sys.path.append('..')\n",
    "import utils\n",
    "from mxnet import gluon\n",
    "from mxnet import init\n",
    "\n",
    "batch_size = 32\n",
    "resize=224\n",
    "def transform(data, label):\n",
    "#     print(data.shape)   # (28, 28, 1)\n",
    "#     print(label.shape)    # (1,)\n",
    "# change data from batch x height x width x channel\n",
    "# to batch x channel x height x width\n",
    "#     return nd.transpose(data.astype('float32'), (0,3,1,2))/255, label.astype('float32')\n",
    "    data = image.imresize(data, resize, resize)\n",
    "#     data = new_data\n",
    "            \n",
    "    return nd.transpose(data.astype('float32'), (2,0,1))/255, label.astype('float32')\n",
    "#     return data.astype('float32') / 255, label.astype('float32')\n",
    "mnist_train = gluon.data.vision.FashionMNIST(train=True, transform=transform)\n",
    "mnist_test = gluon.data.vision.FashionMNIST(train=False, transform=transform)\n",
    "train_data = gluon.data.DataLoader(mnist_train, batch_size, shuffle=True)\n",
    "test_data = gluon.data.DataLoader(mnist_test, batch_size, shuffle=False)\n"
   ]
  },
  {
   "cell_type": "code",
   "execution_count": 6,
   "metadata": {},
   "outputs": [
    {
     "name": "stdout",
     "output_type": "stream",
     "text": [
      "Sequential(\n",
      "  (0): Sequential(\n",
      "    (0): Sequential(\n",
      "      (0): Conv2D(1 -> 64, kernel_size=(3, 3), stride=(1, 1), padding=(1, 1))\n",
      "      (1): MaxPool2D(size=(2, 2), stride=(2, 2), padding=(0, 0), ceil_mode=False)\n",
      "    )\n",
      "    (1): Sequential(\n",
      "      (0): Conv2D(64 -> 128, kernel_size=(3, 3), stride=(1, 1), padding=(1, 1))\n",
      "      (1): MaxPool2D(size=(2, 2), stride=(2, 2), padding=(0, 0), ceil_mode=False)\n",
      "    )\n",
      "    (2): Sequential(\n",
      "      (0): Conv2D(128 -> 256, kernel_size=(3, 3), stride=(1, 1), padding=(1, 1))\n",
      "      (1): Conv2D(256 -> 256, kernel_size=(3, 3), stride=(1, 1), padding=(1, 1))\n",
      "      (2): MaxPool2D(size=(2, 2), stride=(2, 2), padding=(0, 0), ceil_mode=False)\n",
      "    )\n",
      "    (3): Sequential(\n",
      "      (0): Conv2D(256 -> 512, kernel_size=(3, 3), stride=(1, 1), padding=(1, 1))\n",
      "      (1): Conv2D(512 -> 512, kernel_size=(3, 3), stride=(1, 1), padding=(1, 1))\n",
      "      (2): MaxPool2D(size=(2, 2), stride=(2, 2), padding=(0, 0), ceil_mode=False)\n",
      "    )\n",
      "    (4): Sequential(\n",
      "      (0): Conv2D(512 -> 512, kernel_size=(3, 3), stride=(1, 1), padding=(1, 1))\n",
      "      (1): Conv2D(512 -> 512, kernel_size=(3, 3), stride=(1, 1), padding=(1, 1))\n",
      "      (2): MaxPool2D(size=(2, 2), stride=(2, 2), padding=(0, 0), ceil_mode=False)\n",
      "    )\n",
      "  )\n",
      "  (1): Flatten\n",
      "  (2): Dense(25088 -> 4096, Activation(relu))\n",
      "  (3): Dropout(p = 0.5, axes=())\n",
      "  (4): Dense(4096 -> 4096, Activation(relu))\n",
      "  (5): Dropout(p = 0.5, axes=())\n",
      "  (6): Dense(4096 -> 10, linear)\n",
      ")\n",
      "Epoch 0. Loss: 0.8516, Train acc 0.6912, Test acc 0.8531, Time 708 sec\n",
      "Epoch 1. Loss: 0.4168, Train acc 0.8476, Test acc 0.8780, Time 699 sec\n",
      "Epoch 2. Loss: 0.3378, Train acc 0.8783, Test acc 0.9008, Time 695 sec\n",
      "Epoch 3. Loss: 0.2984, Train acc 0.8907, Test acc 0.9077, Time 713 sec\n",
      "Epoch 4. Loss: 0.2657, Train acc 0.9030, Test acc 0.9090, Time 708 sec\n",
      "Epoch 5. Loss: 0.2435, Train acc 0.9097, Test acc 0.9121, Time 719 sec\n",
      "Epoch 6. Loss: 0.2228, Train acc 0.9187, Test acc 0.9205, Time 698 sec\n",
      "Epoch 7. Loss: 0.2060, Train acc 0.9247, Test acc 0.9160, Time 712 sec\n",
      "Epoch 8. Loss: 0.1893, Train acc 0.9308, Test acc 0.9253, Time 697 sec\n",
      "Epoch 9. Loss: 0.1738, Train acc 0.9366, Test acc 0.9231, Time 696 sec\n"
     ]
    }
   ],
   "source": [
    "import time\n",
    "from mxnet import image\n",
    "from mxnet import autograd\n",
    "\n",
    "ctx = utils.try_gpu()\n",
    "net.initialize(ctx=ctx, init=init.Xavier())\n",
    "\n",
    "softmax_cross_entropy = gluon.loss.SoftmaxCrossEntropyLoss()\n",
    "\n",
    "trainer = gluon.Trainer(net.collect_params(), 'sgd', {\n",
    "    'learning_rate': 0.01\n",
    "})\n",
    "\n",
    "print_net = True\n",
    "\n",
    "for epoch in range(10):\n",
    "    time_start = time.time()\n",
    "    train_loss = 0.\n",
    "    train_acc = 0.\n",
    "    for data, label in train_data:\n",
    "        label = label.as_in_context(ctx)\n",
    "        with autograd.record():\n",
    "            output = net(data.as_in_context(ctx))\n",
    "            loss = softmax_cross_entropy(output, label)\n",
    "        if print_net:\n",
    "            print(net)\n",
    "            print_net = False\n",
    "        loss.backward()\n",
    "        trainer.step(batch_size)\n",
    "\n",
    "        train_loss += nd.mean(loss).asscalar()\n",
    "        train_acc += utils.accuracy(output, label)\n",
    "    test_acc = utils.evaluate_accuracy(test_data, net, ctx)\n",
    "    print(\"Epoch %d. Loss: %.4f, Train acc %.4f, Test acc %.4f, Time %.0f sec\" % (\n",
    "        epoch, train_loss/len(train_data),\n",
    "        train_acc/len(train_data), test_acc, time.time() - time_start))"
   ]
  }
 ],
 "metadata": {
  "kernelspec": {
   "display_name": "Python 3",
   "language": "python",
   "name": "python3"
  },
  "language_info": {
   "codemirror_mode": {
    "name": "ipython",
    "version": 3
   },
   "file_extension": ".py",
   "mimetype": "text/x-python",
   "name": "python",
   "nbconvert_exporter": "python",
   "pygments_lexer": "ipython3",
   "version": "3.6.4"
  }
 },
 "nbformat": 4,
 "nbformat_minor": 2
}
