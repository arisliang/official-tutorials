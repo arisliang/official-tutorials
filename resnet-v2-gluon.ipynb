{
 "cells": [
  {
   "cell_type": "code",
   "execution_count": 1,
   "metadata": {},
   "outputs": [
    {
     "name": "stderr",
     "output_type": "stream",
     "text": [
      "/home/ly/anaconda3/envs/learning/lib/python3.6/site-packages/h5py/__init__.py:36: FutureWarning: Conversion of the second argument of issubdtype from `float` to `np.floating` is deprecated. In future, it will be treated as `np.float64 == np.dtype(float).type`.\n",
      "  from ._conv import register_converters as _register_converters\n"
     ]
    }
   ],
   "source": [
    "# ResNet：深度残差网络\n",
    "# http://zh.gluon.ai/chapter_convolutional-neural-networks/resnet-gluon.html\n",
    "\n",
    "from mxnet.gluon import nn\n",
    "from mxnet import nd\n",
    "\n",
    "class _Residual(nn.Block):\n",
    "    def __init__(self, channels, same_shape=True, **kwargs):\n",
    "        super(_Residual, self).__init__(**kwargs)\n",
    "        self.same_shape = same_shape\n",
    "        strides = 1 if same_shape else 2\n",
    "        self.conv1 = nn.Conv2D(channels, kernel_size=3, padding=1,\n",
    "                              strides=strides)\n",
    "        self.bn1 = nn.BatchNorm()\n",
    "        self.conv2 = nn.Conv2D(channels, kernel_size=3, padding=1,\n",
    "                              strides=strides)\n",
    "        self.bn2 = nn.BatchNorm()\n",
    "        if not same_shape:\n",
    "            self.conv3 = nn.Conv2D(channels, kernel_size=1,\n",
    "                                  strides=strides)\n",
    "            \n",
    "class ResidualIdentity(_Residual):\n",
    "    def __init__(self, channels, same_shape=True, **kwargs):\n",
    "        super(ResidualIdentity, self).__init__(channels, same_shape, **kwargs)\n",
    "    \n",
    "    def forward(self, x):\n",
    "#         print('x.shape:', x.shape)\n",
    "        \n",
    "        out = self.conv1(nd.relu(self.bn1(x)))\n",
    "#         print('out.shape:', out.shape)\n",
    "        \n",
    "        out = self.conv2(nd.relu(self.bn2(x)))\n",
    "#         print('out.shape:', out.shape)\n",
    "        \n",
    "        if not self.same_shape:\n",
    "            x = self.conv3(x)\n",
    "#             print('x.shape:', x.shape)\n",
    "            \n",
    "        return out + x"
   ]
  },
  {
   "cell_type": "code",
   "execution_count": 2,
   "metadata": {},
   "outputs": [
    {
     "name": "stdout",
     "output_type": "stream",
     "text": [
      "y.shape: (4, 3, 96, 96)\n",
      "ResidualIdentity(\n",
      "  (conv1): Conv2D(3 -> 3, kernel_size=(3, 3), stride=(1, 1), padding=(1, 1))\n",
      "  (bn1): BatchNorm(axis=1, eps=1e-05, momentum=0.9, fix_gamma=False, use_global_stats=False, in_channels=3)\n",
      "  (conv2): Conv2D(3 -> 3, kernel_size=(3, 3), stride=(1, 1), padding=(1, 1))\n",
      "  (bn2): BatchNorm(axis=1, eps=1e-05, momentum=0.9, fix_gamma=False, use_global_stats=False, in_channels=3)\n",
      ")\n"
     ]
    }
   ],
   "source": [
    "# 输入输出通道相同\n",
    "blk = ResidualIdentity(3)\n",
    "blk.initialize()\n",
    "\n",
    "x = nd.random.uniform(shape=(4,3,96,96))\n",
    "y = blk(x)\n",
    "print('y.shape:', y.shape)\n",
    "print(blk)"
   ]
  },
  {
   "cell_type": "code",
   "execution_count": 3,
   "metadata": {
    "scrolled": false
   },
   "outputs": [
    {
     "name": "stdout",
     "output_type": "stream",
     "text": [
      "y2.shape: (4, 8, 48, 48)\n",
      "ResidualIdentity(\n",
      "  (conv1): Conv2D(3 -> 8, kernel_size=(3, 3), stride=(2, 2), padding=(1, 1))\n",
      "  (bn1): BatchNorm(axis=1, eps=1e-05, momentum=0.9, fix_gamma=False, use_global_stats=False, in_channels=3)\n",
      "  (conv2): Conv2D(3 -> 8, kernel_size=(3, 3), stride=(2, 2), padding=(1, 1))\n",
      "  (bn2): BatchNorm(axis=1, eps=1e-05, momentum=0.9, fix_gamma=False, use_global_stats=False, in_channels=3)\n",
      "  (conv3): Conv2D(3 -> 8, kernel_size=(1, 1), stride=(2, 2))\n",
      ")\n"
     ]
    }
   ],
   "source": [
    "# 输入输出通道不同\n",
    "blk2 = ResidualIdentity(8, same_shape=False)\n",
    "blk2.initialize()\n",
    "# print(blk2)\n",
    "y2 = blk2(x)\n",
    "print('y2.shape:',y2.shape)\n",
    "print(blk2)"
   ]
  },
  {
   "cell_type": "code",
   "execution_count": 4,
   "metadata": {},
   "outputs": [],
   "source": [
    "class _ResidualBottleneck(nn.Block):\n",
    "    def __init__(self, channels_in, channels_out, same_shape=True, **kwargs):\n",
    "        super(_ResidualBottleneck, self).__init__(**kwargs)\n",
    "        self.same_shape = same_shape\n",
    "        strides = 1 if same_shape else 2\n",
    "        self.conv1 = nn.Conv2D(channels_in, kernel_size=1,\n",
    "                              strides=strides)\n",
    "        self.bn1 = nn.BatchNorm()\n",
    "        self.conv2 = nn.Conv2D(channels_in, kernel_size=3, padding=1)\n",
    "        self.bn2 = nn.BatchNorm()\n",
    "        self.conv3 = nn.Conv2D(channels_out, kernel_size=1,\n",
    "                              strides=1)\n",
    "        self.bn3 = nn.BatchNorm()\n",
    "        if not same_shape:\n",
    "            self.conv4 = nn.Conv2D(channels_out, kernel_size=1,\n",
    "                                  strides=strides)\n",
    "            \n",
    "#     def forward(self, x):\n",
    "# #         print('same in / out shape:', self.same_shape)\n",
    "# #         print('x.shape:', x.shape)\n",
    "#         out = nd.relu(self.bn1(self.conv1(x)))\n",
    "# #         print(out.shape)\n",
    "#         out = nd.relu(self.bn2(self.conv2(out)))\n",
    "# #         print(out.shape)\n",
    "#         out = self.bn3(self.conv3(out))\n",
    "# #         print(out.shape)\n",
    "#         if not self.same_shape:\n",
    "#             x = self.conv4(x)\n",
    "# #             print('x.shape:',x.shape)\n",
    "#         return nd.relu(out + x)\n",
    "class ResidualIdentityBottleneck(_ResidualBottleneck):\n",
    "    def __init__(self, channels_in, channels_out, same_shape=True, **kwargs):\n",
    "        super(ResidualIdentityBottleneck, self).__init__(channels_in, channels_out, same_shape, **kwargs)\n",
    "    \n",
    "        def forward(self, x):\n",
    "#             print('x.shape:', x.shape)\n",
    "\n",
    "            out = self.conv1(nd.relu(self.bn1(x)))\n",
    "#             print('out.shape:', out.shape)\n",
    "\n",
    "            out = self.conv2(nd.relu(self.bn2(x)))\n",
    "#             print('out.shape:', out.shape)\n",
    "\n",
    "            out = self.conv3(nd.relu(self.bn3(x)))\n",
    "#             print('out.shape:', out.shape)\n",
    "\n",
    "            if not self.same_shape:\n",
    "                x = self.conv3(x)\n",
    "#                 print('x.shape:', x.shape)\n",
    "\n",
    "            return out + x"
   ]
  },
  {
   "cell_type": "code",
   "execution_count": 5,
   "metadata": {},
   "outputs": [],
   "source": [
    "# 构建ResNet\n",
    "class ResNet18(nn.Block):\n",
    "    def __init__(self, num_classes, verbose=False, **kwargs):\n",
    "        super(ResNet18, self).__init__(**kwargs)\n",
    "        self.verbose = verbose\n",
    "        # add name_scope on the outermost Sequential\n",
    "        with self.name_scope():\n",
    "            # block 1\n",
    "            b1 = nn.Conv2D(64, kernel_size=7, strides=2)\n",
    "            # block 2\n",
    "            b2 = nn.Sequential()\n",
    "            b2.add(\n",
    "                nn.MaxPool2D(pool_size=3, strides=2),\n",
    "                ResidualIdentity(64),\n",
    "                ResidualIdentity(64)\n",
    "            )\n",
    "            # block 3\n",
    "            b3 = nn.Sequential()\n",
    "            b3.add(\n",
    "                ResidualIdentity(128, same_shape=False),\n",
    "                ResidualIdentity(128)\n",
    "            )\n",
    "            # block 4\n",
    "            b4 = nn.Sequential()\n",
    "            b4.add(\n",
    "                ResidualIdentity(256, same_shape=False),\n",
    "                ResidualIdentity(256)\n",
    "            )\n",
    "            # block 5\n",
    "            b5 = nn.Sequential()\n",
    "            b5.add(\n",
    "                ResidualIdentity(512, same_shape=False),\n",
    "                ResidualIdentity(512)\n",
    "            )\n",
    "            # block 6\n",
    "            b6 = nn.Sequential()\n",
    "            b6.add(\n",
    "                nn.AvgPool2D(pool_size=3),\n",
    "                nn.Dense(num_classes)\n",
    "            )\n",
    "            # chain all blocks together\n",
    "            self.net = nn.Sequential()\n",
    "            self.net.add(b1, b2, b3, b4, b5, b6)\n",
    "    \n",
    "    def forward(self, x):\n",
    "        out = x\n",
    "        for i, b in enumerate(self.net):\n",
    "            out = b(out)\n",
    "            if self.verbose:\n",
    "                print('Block %d output: %s' % (i+1, out.shape))\n",
    "        return out"
   ]
  },
  {
   "cell_type": "code",
   "execution_count": 6,
   "metadata": {
    "scrolled": false
   },
   "outputs": [
    {
     "name": "stdout",
     "output_type": "stream",
     "text": [
      "Block 1 output: (4, 64, 45, 45)\n",
      "Block 2 output: (4, 64, 22, 22)\n",
      "Block 3 output: (4, 128, 11, 11)\n",
      "Block 4 output: (4, 256, 6, 6)\n",
      "Block 5 output: (4, 512, 3, 3)\n",
      "Block 6 output: (4, 10)\n",
      "ResNet18(\n",
      "  (net): Sequential(\n",
      "    (0): Conv2D(3 -> 64, kernel_size=(7, 7), stride=(2, 2))\n",
      "    (1): Sequential(\n",
      "      (0): MaxPool2D(size=(3, 3), stride=(2, 2), padding=(0, 0), ceil_mode=False)\n",
      "      (1): ResidualIdentity(\n",
      "        (conv1): Conv2D(64 -> 64, kernel_size=(3, 3), stride=(1, 1), padding=(1, 1))\n",
      "        (bn1): BatchNorm(axis=1, eps=1e-05, momentum=0.9, fix_gamma=False, use_global_stats=False, in_channels=64)\n",
      "        (conv2): Conv2D(64 -> 64, kernel_size=(3, 3), stride=(1, 1), padding=(1, 1))\n",
      "        (bn2): BatchNorm(axis=1, eps=1e-05, momentum=0.9, fix_gamma=False, use_global_stats=False, in_channels=64)\n",
      "      )\n",
      "      (2): ResidualIdentity(\n",
      "        (conv1): Conv2D(64 -> 64, kernel_size=(3, 3), stride=(1, 1), padding=(1, 1))\n",
      "        (bn1): BatchNorm(axis=1, eps=1e-05, momentum=0.9, fix_gamma=False, use_global_stats=False, in_channels=64)\n",
      "        (conv2): Conv2D(64 -> 64, kernel_size=(3, 3), stride=(1, 1), padding=(1, 1))\n",
      "        (bn2): BatchNorm(axis=1, eps=1e-05, momentum=0.9, fix_gamma=False, use_global_stats=False, in_channels=64)\n",
      "      )\n",
      "    )\n",
      "    (2): Sequential(\n",
      "      (0): ResidualIdentity(\n",
      "        (conv1): Conv2D(64 -> 128, kernel_size=(3, 3), stride=(2, 2), padding=(1, 1))\n",
      "        (bn1): BatchNorm(axis=1, eps=1e-05, momentum=0.9, fix_gamma=False, use_global_stats=False, in_channels=64)\n",
      "        (conv2): Conv2D(64 -> 128, kernel_size=(3, 3), stride=(2, 2), padding=(1, 1))\n",
      "        (bn2): BatchNorm(axis=1, eps=1e-05, momentum=0.9, fix_gamma=False, use_global_stats=False, in_channels=64)\n",
      "        (conv3): Conv2D(64 -> 128, kernel_size=(1, 1), stride=(2, 2))\n",
      "      )\n",
      "      (1): ResidualIdentity(\n",
      "        (conv1): Conv2D(128 -> 128, kernel_size=(3, 3), stride=(1, 1), padding=(1, 1))\n",
      "        (bn1): BatchNorm(axis=1, eps=1e-05, momentum=0.9, fix_gamma=False, use_global_stats=False, in_channels=128)\n",
      "        (conv2): Conv2D(128 -> 128, kernel_size=(3, 3), stride=(1, 1), padding=(1, 1))\n",
      "        (bn2): BatchNorm(axis=1, eps=1e-05, momentum=0.9, fix_gamma=False, use_global_stats=False, in_channels=128)\n",
      "      )\n",
      "    )\n",
      "    (3): Sequential(\n",
      "      (0): ResidualIdentity(\n",
      "        (conv1): Conv2D(128 -> 256, kernel_size=(3, 3), stride=(2, 2), padding=(1, 1))\n",
      "        (bn1): BatchNorm(axis=1, eps=1e-05, momentum=0.9, fix_gamma=False, use_global_stats=False, in_channels=128)\n",
      "        (conv2): Conv2D(128 -> 256, kernel_size=(3, 3), stride=(2, 2), padding=(1, 1))\n",
      "        (bn2): BatchNorm(axis=1, eps=1e-05, momentum=0.9, fix_gamma=False, use_global_stats=False, in_channels=128)\n",
      "        (conv3): Conv2D(128 -> 256, kernel_size=(1, 1), stride=(2, 2))\n",
      "      )\n",
      "      (1): ResidualIdentity(\n",
      "        (conv1): Conv2D(256 -> 256, kernel_size=(3, 3), stride=(1, 1), padding=(1, 1))\n",
      "        (bn1): BatchNorm(axis=1, eps=1e-05, momentum=0.9, fix_gamma=False, use_global_stats=False, in_channels=256)\n",
      "        (conv2): Conv2D(256 -> 256, kernel_size=(3, 3), stride=(1, 1), padding=(1, 1))\n",
      "        (bn2): BatchNorm(axis=1, eps=1e-05, momentum=0.9, fix_gamma=False, use_global_stats=False, in_channels=256)\n",
      "      )\n",
      "    )\n",
      "    (4): Sequential(\n",
      "      (0): ResidualIdentity(\n",
      "        (conv1): Conv2D(256 -> 512, kernel_size=(3, 3), stride=(2, 2), padding=(1, 1))\n",
      "        (bn1): BatchNorm(axis=1, eps=1e-05, momentum=0.9, fix_gamma=False, use_global_stats=False, in_channels=256)\n",
      "        (conv2): Conv2D(256 -> 512, kernel_size=(3, 3), stride=(2, 2), padding=(1, 1))\n",
      "        (bn2): BatchNorm(axis=1, eps=1e-05, momentum=0.9, fix_gamma=False, use_global_stats=False, in_channels=256)\n",
      "        (conv3): Conv2D(256 -> 512, kernel_size=(1, 1), stride=(2, 2))\n",
      "      )\n",
      "      (1): ResidualIdentity(\n",
      "        (conv1): Conv2D(512 -> 512, kernel_size=(3, 3), stride=(1, 1), padding=(1, 1))\n",
      "        (bn1): BatchNorm(axis=1, eps=1e-05, momentum=0.9, fix_gamma=False, use_global_stats=False, in_channels=512)\n",
      "        (conv2): Conv2D(512 -> 512, kernel_size=(3, 3), stride=(1, 1), padding=(1, 1))\n",
      "        (bn2): BatchNorm(axis=1, eps=1e-05, momentum=0.9, fix_gamma=False, use_global_stats=False, in_channels=512)\n",
      "      )\n",
      "    )\n",
      "    (5): Sequential(\n",
      "      (0): AvgPool2D(size=(3, 3), stride=(3, 3), padding=(0, 0), ceil_mode=False)\n",
      "      (1): Dense(512 -> 10, linear)\n",
      "    )\n",
      "  )\n",
      ")\n"
     ]
    }
   ],
   "source": [
    "net = ResNet18(10, verbose=True)\n",
    "net.initialize()\n",
    "\n",
    "x = nd.random.uniform(shape=(4,3,96, 96))\n",
    "y = net(x)\n",
    "print(net)"
   ]
  },
  {
   "cell_type": "code",
   "execution_count": 7,
   "metadata": {},
   "outputs": [
    {
     "name": "stdout",
     "output_type": "stream",
     "text": [
      "[21:44:06] src/storage/storage.cc:119: Check failed: e == cudaSuccess || e == cudaErrorCudartUnloading CUDA: unknown error\n",
      "\n",
      "Stack trace returned 10 entries:\n",
      "[bt] (0) /home/ly/anaconda3/envs/learning/lib/python3.6/site-packages/mxnet/libmxnet.so(+0x3032da) [0x7f5f7df5c2da]\n",
      "[bt] (1) /home/ly/anaconda3/envs/learning/lib/python3.6/site-packages/mxnet/libmxnet.so(+0x303901) [0x7f5f7df5c901]\n",
      "[bt] (2) /home/ly/anaconda3/envs/learning/lib/python3.6/site-packages/mxnet/libmxnet.so(+0x28ec533) [0x7f5f80545533]\n",
      "[bt] (3) /home/ly/anaconda3/envs/learning/lib/python3.6/site-packages/mxnet/libmxnet.so(+0x28ef42f) [0x7f5f8054842f]\n",
      "[bt] (4) /home/ly/anaconda3/envs/learning/lib/python3.6/site-packages/mxnet/libmxnet.so(+0x28f08ef) [0x7f5f805498ef]\n",
      "[bt] (5) /home/ly/anaconda3/envs/learning/lib/python3.6/site-packages/mxnet/libmxnet.so(+0x23f2516) [0x7f5f8004b516]\n",
      "[bt] (6) /home/ly/anaconda3/envs/learning/lib/python3.6/site-packages/mxnet/libmxnet.so(MXNDArrayCreateEx+0x158) [0x7f5f8004bd88]\n",
      "[bt] (7) /home/ly/anaconda3/envs/learning/lib/python3.6/lib-dynload/../../libffi.so.6(ffi_call_unix64+0x4c) [0x7f5fd9041ec0]\n",
      "[bt] (8) /home/ly/anaconda3/envs/learning/lib/python3.6/lib-dynload/../../libffi.so.6(ffi_call+0x22d) [0x7f5fd904187d]\n",
      "[bt] (9) /home/ly/anaconda3/envs/learning/lib/python3.6/lib-dynload/_ctypes.cpython-36m-x86_64-linux-gnu.so(_ctypes_callproc+0x2ce) [0x7f5fd9256dee]\n",
      "\n",
      "\n"
     ]
    }
   ],
   "source": [
    "# 读取数据\n",
    "import sys\n",
    "sys.path.append('..')\n",
    "import utils\n",
    "from mxnet import autograd\n",
    "from mxnet import gluon\n",
    "from mxnet import nd\n",
    "from mxnet import image\n",
    "from mxnet import init\n",
    "\n",
    "batch_size = 128\n",
    "resize=224\n",
    "\n",
    "ctx = utils.try_gpu(1)\n",
    "net = ResNet18(10, verbose=False)\n",
    "net.initialize(ctx=ctx, init=init.Xavier())\n",
    "\n",
    "def transform(data, label):\n",
    "#     print(data.shape)   # (28, 28, 1)\n",
    "#     print(label.shape)    # (1,)\n",
    "# change data from batch x height x width x channel\n",
    "# to batch x channel x height x width\n",
    "#     return nd.transpose(data.astype('float32'), (0,3,1,2))/255, label.astype('float32')\n",
    "    data = image.imresize(data, resize, resize)\n",
    "#     data = new_data\n",
    "            \n",
    "    return nd.transpose(data.astype('float32'), (2,0,1))/255, label.astype('float32')\n",
    "#     return data.astype('float32') / 255, label.astype('float32')\n",
    "mnist_train = gluon.data.vision.FashionMNIST(train=True, transform=transform)\n",
    "mnist_test = gluon.data.vision.FashionMNIST(train=False, transform=transform)\n",
    "train_data = gluon.data.DataLoader(mnist_train, batch_size, shuffle=True)\n",
    "test_data = gluon.data.DataLoader(mnist_test, batch_size, shuffle=False)"
   ]
  },
  {
   "cell_type": "code",
   "execution_count": 8,
   "metadata": {},
   "outputs": [
    {
     "name": "stdout",
     "output_type": "stream",
     "text": [
      "[21:44:06] src/storage/storage.cc:119: Check failed: e == cudaSuccess || e == cudaErrorCudartUnloading CUDA: unknown error\n",
      "\n",
      "Stack trace returned 10 entries:\n",
      "[bt] (0) /home/ly/anaconda3/envs/learning/lib/python3.6/site-packages/mxnet/libmxnet.so(+0x3032da) [0x7f5f7df5c2da]\n",
      "[bt] (1) /home/ly/anaconda3/envs/learning/lib/python3.6/site-packages/mxnet/libmxnet.so(+0x303901) [0x7f5f7df5c901]\n",
      "[bt] (2) /home/ly/anaconda3/envs/learning/lib/python3.6/site-packages/mxnet/libmxnet.so(+0x28ec533) [0x7f5f80545533]\n",
      "[bt] (3) /home/ly/anaconda3/envs/learning/lib/python3.6/site-packages/mxnet/libmxnet.so(+0x28ef42f) [0x7f5f8054842f]\n",
      "[bt] (4) /home/ly/anaconda3/envs/learning/lib/python3.6/site-packages/mxnet/libmxnet.so(+0x28f08ef) [0x7f5f805498ef]\n",
      "[bt] (5) /home/ly/anaconda3/envs/learning/lib/python3.6/site-packages/mxnet/libmxnet.so(+0x23f2516) [0x7f5f8004b516]\n",
      "[bt] (6) /home/ly/anaconda3/envs/learning/lib/python3.6/site-packages/mxnet/libmxnet.so(MXNDArrayCreateEx+0x158) [0x7f5f8004bd88]\n",
      "[bt] (7) /home/ly/anaconda3/envs/learning/lib/python3.6/lib-dynload/../../libffi.so.6(ffi_call_unix64+0x4c) [0x7f5fd9041ec0]\n",
      "[bt] (8) /home/ly/anaconda3/envs/learning/lib/python3.6/lib-dynload/../../libffi.so.6(ffi_call+0x22d) [0x7f5fd904187d]\n",
      "[bt] (9) /home/ly/anaconda3/envs/learning/lib/python3.6/lib-dynload/_ctypes.cpython-36m-x86_64-linux-gnu.so(_ctypes_callproc+0x2ce) [0x7f5fd9256dee]\n",
      "\n",
      "\n"
     ]
    },
    {
     "data": {
      "text/plain": [
       "cpu(0)"
      ]
     },
     "execution_count": 8,
     "metadata": {},
     "output_type": "execute_result"
    }
   ],
   "source": [
    "ctx = utils.try_gpu(1)\n",
    "ctx"
   ]
  },
  {
   "cell_type": "code",
   "execution_count": 9,
   "metadata": {
    "scrolled": false
   },
   "outputs": [
    {
     "ename": "UserWarning",
     "evalue": "Gradient of Parameter `resnet181_conv1_weight` on context cpu(0) has not been updated by backward since last `step`. This could mean a bug in your model that made it only use a subset of the Parameters (Blocks) for this iteration. If you are intentionally only using a subset, call step with ignore_stale_grad=True to suppress this warning and skip updating of Parameters with stale gradient",
     "output_type": "error",
     "traceback": [
      "\u001b[0;31m---------------------------------------------------------------------------\u001b[0m",
      "\u001b[0;31mUserWarning\u001b[0m                               Traceback (most recent call last)",
      "\u001b[0;32m<ipython-input-9-fb885bc7e656>\u001b[0m in \u001b[0;36m<module>\u001b[0;34m()\u001b[0m\n\u001b[1;32m     19\u001b[0m             \u001b[0mloss\u001b[0m \u001b[0;34m=\u001b[0m \u001b[0msoftmax_cross_entropy\u001b[0m\u001b[0;34m(\u001b[0m\u001b[0moutput\u001b[0m\u001b[0;34m,\u001b[0m \u001b[0mlabel\u001b[0m\u001b[0;34m)\u001b[0m\u001b[0;34m\u001b[0m\u001b[0m\n\u001b[1;32m     20\u001b[0m         \u001b[0mloss\u001b[0m\u001b[0;34m.\u001b[0m\u001b[0mbackward\u001b[0m\u001b[0;34m(\u001b[0m\u001b[0;34m)\u001b[0m\u001b[0;34m\u001b[0m\u001b[0m\n\u001b[0;32m---> 21\u001b[0;31m         \u001b[0mtrainer\u001b[0m\u001b[0;34m.\u001b[0m\u001b[0mstep\u001b[0m\u001b[0;34m(\u001b[0m\u001b[0mbatch_size\u001b[0m\u001b[0;34m)\u001b[0m\u001b[0;34m\u001b[0m\u001b[0m\n\u001b[0m\u001b[1;32m     22\u001b[0m \u001b[0;34m\u001b[0m\u001b[0m\n\u001b[1;32m     23\u001b[0m         \u001b[0mtrain_loss\u001b[0m \u001b[0;34m+=\u001b[0m \u001b[0mnd\u001b[0m\u001b[0;34m.\u001b[0m\u001b[0mmean\u001b[0m\u001b[0;34m(\u001b[0m\u001b[0mloss\u001b[0m\u001b[0;34m)\u001b[0m\u001b[0;34m.\u001b[0m\u001b[0masscalar\u001b[0m\u001b[0;34m(\u001b[0m\u001b[0;34m)\u001b[0m\u001b[0;34m\u001b[0m\u001b[0m\n",
      "\u001b[0;32m~/anaconda3/envs/learning/lib/python3.6/site-packages/mxnet/gluon/trainer.py\u001b[0m in \u001b[0;36mstep\u001b[0;34m(self, batch_size, ignore_stale_grad)\u001b[0m\n\u001b[1;32m    186\u001b[0m                             \u001b[0;34m\"call step with ignore_stale_grad=True to suppress this \"\u001b[0m\u001b[0;34m\u001b[0m\u001b[0m\n\u001b[1;32m    187\u001b[0m                             \u001b[0;34m\"warning and skip updating of Parameters with stale gradient\"\u001b[0m\u001b[0;31m \u001b[0m\u001b[0;31m\\\u001b[0m\u001b[0;34m\u001b[0m\u001b[0m\n\u001b[0;32m--> 188\u001b[0;31m                             %(param.name, str(data.context)))\n\u001b[0m\u001b[1;32m    189\u001b[0m \u001b[0;34m\u001b[0m\u001b[0m\n\u001b[1;32m    190\u001b[0m             \u001b[0;32mif\u001b[0m \u001b[0mself\u001b[0m\u001b[0;34m.\u001b[0m\u001b[0m_kvstore\u001b[0m\u001b[0;34m:\u001b[0m\u001b[0;34m\u001b[0m\u001b[0m\n",
      "\u001b[0;31mUserWarning\u001b[0m: Gradient of Parameter `resnet181_conv1_weight` on context cpu(0) has not been updated by backward since last `step`. This could mean a bug in your model that made it only use a subset of the Parameters (Blocks) for this iteration. If you are intentionally only using a subset, call step with ignore_stale_grad=True to suppress this warning and skip updating of Parameters with stale gradient"
     ]
    }
   ],
   "source": [
    "# 训练\n",
    "import time\n",
    "from mxnet import gluon\n",
    "\n",
    "softmax_cross_entropy = gluon.loss.SoftmaxCrossEntropyLoss()\n",
    "\n",
    "trainer = gluon.Trainer(net.collect_params(), 'sgd', {\n",
    "    'learning_rate': 0.05\n",
    "})\n",
    "\n",
    "for epoch in range(10):\n",
    "    time_start = time.time()\n",
    "    train_loss = 0.\n",
    "    train_acc = 0.\n",
    "    for data, label in train_data:\n",
    "        label = label.as_in_context(ctx)\n",
    "        with autograd.record():\n",
    "            output = net(data.as_in_context(ctx))\n",
    "            loss = softmax_cross_entropy(output, label)\n",
    "        loss.backward()\n",
    "        trainer.step(batch_size)\n",
    "\n",
    "        train_loss += nd.mean(loss).asscalar()\n",
    "        train_acc += utils.accuracy(output, label)\n",
    "    test_acc = utils.evaluate_accuracy(test_data, net, ctx)\n",
    "    print(\"Epoch %d. Loss: %.4f, Train acc %.4f, Test acc %.4f, Time %.0f sec\" % (\n",
    "        epoch, train_loss/len(train_data),\n",
    "        train_acc/len(train_data), test_acc, time.time() - time_start))"
   ]
  },
  {
   "cell_type": "code",
   "execution_count": null,
   "metadata": {},
   "outputs": [],
   "source": []
  }
 ],
 "metadata": {
  "kernelspec": {
   "display_name": "Python 3",
   "language": "python",
   "name": "python3"
  },
  "language_info": {
   "codemirror_mode": {
    "name": "ipython",
    "version": 3
   },
   "file_extension": ".py",
   "mimetype": "text/x-python",
   "name": "python",
   "nbconvert_exporter": "python",
   "pygments_lexer": "ipython3",
   "version": "3.6.4"
  }
 },
 "nbformat": 4,
 "nbformat_minor": 2
}
