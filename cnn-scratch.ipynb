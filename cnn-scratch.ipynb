{
 "cells": [
  {
   "cell_type": "code",
   "execution_count": 1,
   "metadata": {},
   "outputs": [
    {
     "name": "stderr",
     "output_type": "stream",
     "text": [
      "/home/ly/anaconda3/envs/learning/lib/python3.6/site-packages/h5py/__init__.py:36: FutureWarning: Conversion of the second argument of issubdtype from `float` to `np.floating` is deprecated. In future, it will be treated as `np.float64 == np.dtype(float).type`.\n",
      "  from ._conv import register_converters as _register_converters\n"
     ]
    },
    {
     "name": "stdout",
     "output_type": "stream",
     "text": [
      "(2, 2)\n",
      "1\n",
      "input: \n",
      "[[[[0. 1. 2.]\n",
      "   [3. 4. 5.]\n",
      "   [6. 7. 8.]]]]\n",
      "<NDArray 1x1x3x3 @cpu(0)>\n",
      "input: \n",
      "[[0. 1.]\n",
      " [3. 4.]]\n",
      "<NDArray 2x2 @cpu(0)>\n",
      "weight: \n",
      "[[[[0. 1.]\n",
      "   [2. 3.]]]]\n",
      "<NDArray 1x1x2x2 @cpu(0)>\n",
      "bias: \n",
      "[1.]\n",
      "<NDArray 1 @cpu(0)>\n",
      "output: \n",
      "[[[[20. 26.]\n",
      "   [38. 44.]]]]\n",
      "<NDArray 1x1x2x2 @cpu(0)>\n"
     ]
    }
   ],
   "source": [
    "# 卷积神经网络 — 从0开始\n",
    "# http://zh.gluon.ai/chapter_convolutional-neural-networks/cnn-scratch.html\n",
    "\n",
    "# 卷积神经网络\n",
    "# 卷积层\n",
    "\n",
    "from mxnet import nd\n",
    "# 输入输出数据格式是 batch x channel x height x width\n",
    "# 这里batch和channel都是1\n",
    "# 权重格式是 output_channels x in_channels x height x width\n",
    "# 这里input_filter和output_filter都是1。\n",
    "w = nd.arange(4).reshape([1,1,2,2])\n",
    "b = nd.array([1])\n",
    "data = nd.arange(9).reshape((1,1,3,3))\n",
    "out = nd.Convolution(data, w, b,\n",
    "                     kernel=w.shape[2:], num_filter=w.shape[1])\n",
    "\n",
    "print(w.shape[2:])\n",
    "print(w.shape[1])\n",
    "print('input:', data)\n",
    "print('input:', data[0, 0, 0:2,0:2])\n",
    "print('weight:', w)\n",
    "print('bias:', b)\n",
    "print('output:', out)"
   ]
  },
  {
   "cell_type": "code",
   "execution_count": 2,
   "metadata": {},
   "outputs": [
    {
     "name": "stdout",
     "output_type": "stream",
     "text": [
      "input: \n",
      "[[[[0. 1. 2.]\n",
      "   [3. 4. 5.]\n",
      "   [6. 7. 8.]]]]\n",
      "<NDArray 1x1x3x3 @cpu(0)>\n",
      "weight: \n",
      "[[[[0. 1.]\n",
      "   [2. 3.]]]]\n",
      "<NDArray 1x1x2x2 @cpu(0)>\n",
      "bias: \n",
      "[1.]\n",
      "<NDArray 1 @cpu(0)>\n",
      "kernel: (2, 2)\n",
      "num_filter:  1\n",
      "output: \n",
      "[[[[ 1.  9.]\n",
      "   [22. 44.]]]]\n",
      "<NDArray 1x1x2x2 @cpu(0)>\n"
     ]
    }
   ],
   "source": [
    "out = nd.Convolution(data, w, b,\n",
    "                     kernel=w.shape[2:], num_filter=w.shape[1],\n",
    "                    stride=(2,2), pad=(1,1))\n",
    "print('input:', data)\n",
    "print('weight:', w)\n",
    "print('bias:', b)\n",
    "print('kernel:', w.shape[2:])\n",
    "print('num_filter: ', w.shape[1])\n",
    "print('output:', out)"
   ]
  },
  {
   "cell_type": "code",
   "execution_count": 3,
   "metadata": {},
   "outputs": [
    {
     "data": {
      "text/plain": [
       "43"
      ]
     },
     "execution_count": 3,
     "metadata": {},
     "output_type": "execute_result"
    }
   ],
   "source": [
    "import numpy as np\n",
    "a = np.multiply([[4, 5],[7, 8]], [[0, 1],[2, 3]])\n",
    "np.sum(a)"
   ]
  },
  {
   "cell_type": "code",
   "execution_count": 4,
   "metadata": {},
   "outputs": [
    {
     "data": {
      "text/plain": [
       "array([[16, 28],\n",
       "       [32, 56]])"
      ]
     },
     "execution_count": 4,
     "metadata": {},
     "output_type": "execute_result"
    }
   ],
   "source": [
    "np.sum([[[0, 0], [0, 0]],\n",
    "        [[0, 0], [4, 7]],\n",
    "        [[6, 9], [12, 18]],\n",
    "        [[10, 19], [16, 31]]],\n",
    "       axis=0)"
   ]
  },
  {
   "cell_type": "code",
   "execution_count": 5,
   "metadata": {},
   "outputs": [
    {
     "name": "stdout",
     "output_type": "stream",
     "text": [
      "input: \n",
      "[[[[ 0.  1.  2.]\n",
      "   [ 3.  4.  5.]\n",
      "   [ 6.  7.  8.]]\n",
      "\n",
      "  [[ 9. 10. 11.]\n",
      "   [12. 13. 14.]\n",
      "   [15. 16. 17.]]]]\n",
      "<NDArray 1x2x3x3 @cpu(0)>\n",
      "weight: \n",
      "[[[[0. 1.]\n",
      "   [2. 3.]]\n",
      "\n",
      "  [[4. 5.]\n",
      "   [6. 7.]]]]\n",
      "<NDArray 1x2x2x2 @cpu(0)>\n",
      "bias: \n",
      "[1.]\n",
      "<NDArray 1 @cpu(0)>\n",
      "kernel: (2, 2)\n",
      "num_filter:  1\n",
      "output: \n",
      "[[[[269. 297.]\n",
      "   [353. 381.]]]]\n",
      "<NDArray 1x1x2x2 @cpu(0)>\n"
     ]
    }
   ],
   "source": [
    "w = nd.arange(8).reshape((1, 2, 2, 2))\n",
    "data = nd.arange(18).reshape(1, 2, 3, 3)\n",
    "out = nd.Convolution(data, w, b,\n",
    "                     kernel=w.shape[2:], num_filter=w.shape[0])\n",
    "print('input:', data)\n",
    "print('weight:', w)\n",
    "print('bias:', b)\n",
    "print('kernel:', w.shape[2:])\n",
    "print('num_filter: ', w.shape[0])\n",
    "print('output:', out)"
   ]
  },
  {
   "cell_type": "code",
   "execution_count": 6,
   "metadata": {},
   "outputs": [
    {
     "name": "stdout",
     "output_type": "stream",
     "text": [
      "input: \n",
      "[[[[ 0.  1.  2.]\n",
      "   [ 3.  4.  5.]\n",
      "   [ 6.  7.  8.]]\n",
      "\n",
      "  [[ 9. 10. 11.]\n",
      "   [12. 13. 14.]\n",
      "   [15. 16. 17.]]]]\n",
      "<NDArray 1x2x3x3 @cpu(0)>\n",
      "weight: \n",
      "[[[[ 0.  1.]\n",
      "   [ 2.  3.]]\n",
      "\n",
      "  [[ 4.  5.]\n",
      "   [ 6.  7.]]]\n",
      "\n",
      "\n",
      " [[[ 8.  9.]\n",
      "   [10. 11.]]\n",
      "\n",
      "  [[12. 13.]\n",
      "   [14. 15.]]]]\n",
      "<NDArray 2x2x2x2 @cpu(0)>\n",
      "bias: \n",
      "[1. 2.]\n",
      "<NDArray 2 @cpu(0)>\n",
      "kernel: (2, 2)\n",
      "num_filter:  2\n",
      "output: \n",
      "[[[[ 269.  297.]\n",
      "   [ 353.  381.]]\n",
      "\n",
      "  [[ 686.  778.]\n",
      "   [ 962. 1054.]]]]\n",
      "<NDArray 1x2x2x2 @cpu(0)>\n"
     ]
    }
   ],
   "source": [
    "w = nd.arange(16).reshape((2,2,2,2))\n",
    "data = nd.arange(18).reshape((1,2,3,3))\n",
    "b = nd.array([1,2])\n",
    "out = nd.Convolution(data, w, b,\n",
    "                    kernel=w.shape[2:], num_filter=w.shape[0])\n",
    "print('input:', data)\n",
    "print('weight:', w)\n",
    "print('bias:', b)\n",
    "print('kernel:', w.shape[2:])\n",
    "print('num_filter: ', w.shape[0])\n",
    "print('output:', out)"
   ]
  },
  {
   "cell_type": "code",
   "execution_count": 7,
   "metadata": {},
   "outputs": [
    {
     "name": "stdout",
     "output_type": "stream",
     "text": [
      "data: \n",
      "[[[[ 0.  1.  2.]\n",
      "   [ 3.  4.  5.]\n",
      "   [ 6.  7.  8.]]\n",
      "\n",
      "  [[ 9. 10. 11.]\n",
      "   [12. 13. 14.]\n",
      "   [15. 16. 17.]]]]\n",
      "<NDArray 1x2x3x3 @cpu(0)>\n",
      "max pooling: \n",
      "[[[[ 4.  5.]\n",
      "   [ 7.  8.]]\n",
      "\n",
      "  [[13. 14.]\n",
      "   [16. 17.]]]]\n",
      "<NDArray 1x2x2x2 @cpu(0)>\n",
      "avg pooling: \n",
      "[[[[ 2.  3.]\n",
      "   [ 5.  6.]]\n",
      "\n",
      "  [[11. 12.]\n",
      "   [14. 15.]]]]\n",
      "<NDArray 1x2x2x2 @cpu(0)>\n"
     ]
    }
   ],
   "source": [
    "# 池化层（pooling）\n",
    "data = nd.arange(18).reshape((1,2,3,3))\n",
    "max_pool = nd.Pooling(data=data, pool_type='max', kernel=(2,2))\n",
    "avg_pool = nd.Pooling(data=data, pool_type='avg', kernel=(2,2))\n",
    "\n",
    "print('data:', data)\n",
    "print('max pooling:', max_pool)\n",
    "print('avg pooling:', avg_pool)"
   ]
  },
  {
   "cell_type": "code",
   "execution_count": 8,
   "metadata": {},
   "outputs": [],
   "source": [
    "# 获取数据\n",
    "import sys\n",
    "sys.path.append('..')\n",
    "import utils\n",
    "from mxnet import gluon\n",
    "\n",
    "batch_size = 256\n",
    "def transform(data, label):\n",
    "#     print(data.shape)\n",
    "#     print(label.shape)\n",
    "# change data from batch x height x width x channel\n",
    "# to batch x channel x height x width\n",
    "#     return nd.transpose(data.astype('float32'), (0,3,1,2))/255, label.astype('float32')\n",
    "    return nd.transpose(data.astype('float32'), (2,0,1))/255, label.astype('float32')\n",
    "#     return data.astype('float32') / 255, label.astype('float32')\n",
    "mnist_train = gluon.data.vision.FashionMNIST(train=True, transform=transform)\n",
    "mnist_test = gluon.data.vision.FashionMNIST(train=False, transform=transform)\n",
    "train_data = gluon.data.DataLoader(mnist_train, batch_size, shuffle=True)\n",
    "test_data = gluon.data.DataLoader(mnist_test, batch_size, shuffle=False)\n",
    "\n",
    "# train_data, test_data = utils2.load_data_fashion_mnist(batch_size)"
   ]
  },
  {
   "cell_type": "code",
   "execution_count": 9,
   "metadata": {},
   "outputs": [
    {
     "data": {
      "text/plain": [
       "gpu(0)"
      ]
     },
     "execution_count": 9,
     "metadata": {},
     "output_type": "execute_result"
    }
   ],
   "source": [
    "# 定义模型\n",
    "import mxnet as mx\n",
    "try:\n",
    "    ctx=mx.gpu()\n",
    "    _=nd.zeros((1,), ctx=ctx)\n",
    "except:\n",
    "    ctx=mx.cpu()\n",
    "ctx"
   ]
  },
  {
   "cell_type": "code",
   "execution_count": 10,
   "metadata": {},
   "outputs": [
    {
     "name": "stdout",
     "output_type": "stream",
     "text": [
      "(20, 1, 5, 5)\n",
      "(20,)\n",
      "(50, 20, 3, 3)\n",
      "(50,)\n",
      "(1250, 128)\n",
      "(128,)\n",
      "(128, 10)\n",
      "(10,)\n"
     ]
    }
   ],
   "source": [
    "weight_scale = 0.01\n",
    "# output channels = 20, kernel = (5, 5)\n",
    "W1 = nd.random_normal(shape=(20, 1, 5, 5), scale=weight_scale, ctx=ctx)\n",
    "b1 = nd.zeros(W1.shape[0], ctx=ctx)\n",
    "\n",
    "# output channels = 50, kernel = (3, 3)\n",
    "W2 = nd.random_normal(shape=(50, 20, 3, 3), scale=weight_scale, ctx=ctx)\n",
    "b2 = nd.zeros(W2.shape[0], ctx=ctx)\n",
    "\n",
    "# output dim = 128\n",
    "W3 = nd.random_normal(shape=(1250, 128), scale=weight_scale, ctx=ctx)\n",
    "b3 = nd.zeros(W3.shape[1], ctx=ctx)\n",
    "\n",
    "# output dim = 10\n",
    "W4 = nd.random_normal(shape=(W3.shape[1], 10), scale=weight_scale, ctx=ctx)\n",
    "b4 = nd.zeros(W4.shape[1], ctx=ctx)\n",
    "\n",
    "params = [W1, b1, W2, b2, W3, b3, W4, b4]\n",
    "for param in params:\n",
    "    print(param.shape)\n",
    "    param.attach_grad()"
   ]
  },
  {
   "cell_type": "code",
   "execution_count": 11,
   "metadata": {},
   "outputs": [],
   "source": [
    "def net(X, verbose=False):\n",
    "    X = X.as_in_context(W1.context)\n",
    "    # 第一层卷积\n",
    "    h1_conv = nd.Convolution(data=X,\n",
    "                             weight=W1,\n",
    "                             bias=b1,\n",
    "                             kernel=W1.shape[2:],\n",
    "                             num_filter=W1.shape[0])\n",
    "    h1_activation = nd.relu(h1_conv)\n",
    "    h1 = nd.Pooling(data=h1_activation, pool_type='max',\n",
    "                    kernel=(2,2),  stride=(2, 2))\n",
    "    # 第二层卷积\n",
    "    h2_conv = nd.Convolution(data=h1, weight=W2, bias=b2,\n",
    "                            kernel=W2.shape[2:], num_filter=W2.shape[0])\n",
    "    h2_activation = nd.relu(h2_conv)\n",
    "    h2 = nd.Pooling(data=h2_activation, pool_type='max',\n",
    "                    kernel=(2,2),  stride=(2, 2))\n",
    "    h2 = nd.flatten(h2)\n",
    "#     print(h2.shape)\n",
    "    # 第一层全连接\n",
    "    h3_linear = nd.dot(h2, W3) + b3\n",
    "    h3 = nd.relu(h3_linear)\n",
    "    # 第二层全连接\n",
    "    h4_linear = nd.dot(h3, W4) + b4\n",
    "    if verbose:\n",
    "        print('1st conv block:', h1.shape)\n",
    "        print('2nd conv block:', h2.shape)\n",
    "        print('1st dense:', h3.shape)\n",
    "        print('2nd dense:', h4_linear.shape)\n",
    "        print('output:', h4_linear)\n",
    "    return h4_linear"
   ]
  },
  {
   "cell_type": "code",
   "execution_count": 12,
   "metadata": {},
   "outputs": [
    {
     "name": "stdout",
     "output_type": "stream",
     "text": [
      "1st conv block: (256, 20, 12, 12)\n",
      "2nd conv block: (256, 1250)\n",
      "1st dense: (256, 128)\n",
      "2nd dense: (256, 10)\n",
      "output: \n",
      "[[-4.81380557e-05  3.17363520e-05  5.72165263e-05 ...  1.97999907e-04\n",
      "   3.07527152e-05 -1.03297061e-05]\n",
      " [-1.06030757e-05 -3.67423490e-06  5.51745070e-05 ...  1.34725487e-04\n",
      "   1.32897057e-05 -3.36987359e-05]\n",
      " [-5.40050860e-05  5.11520993e-05  2.97666265e-05 ...  1.83898417e-04\n",
      "   4.02129954e-05  2.34566105e-05]\n",
      " ...\n",
      " [-1.91618055e-05 -3.44932414e-06  4.13789676e-05 ...  8.38390843e-05\n",
      "   2.17592551e-05 -2.78264015e-05]\n",
      " [-8.90752290e-06  1.59424708e-05  5.24087009e-05 ...  1.48530016e-04\n",
      "   4.60587944e-06  1.44361720e-05]\n",
      " [-1.93647465e-05 -1.45099693e-06  3.78127479e-05 ...  1.28447326e-04\n",
      "   1.15066305e-05 -4.73124783e-06]]\n",
      "<NDArray 256x10 @gpu(0)>\n"
     ]
    }
   ],
   "source": [
    "for data, _ in train_data:\n",
    "#     print(data.shape)\n",
    "    net(data, verbose=True)\n",
    "    break"
   ]
  },
  {
   "cell_type": "code",
   "execution_count": 14,
   "metadata": {},
   "outputs": [
    {
     "name": "stdout",
     "output_type": "stream",
     "text": [
      "Epoch 0. Loss: 0.415731, Train acc 0.846953, Test acc 0.865918\n",
      "Epoch 1. Loss: 0.380737, Train acc 0.859342, Test acc 0.859668\n",
      "Epoch 2. Loss: 0.355278, Train acc 0.869731, Test acc 0.876953\n",
      "Epoch 3. Loss: 0.339329, Train acc 0.875465, Test acc 0.883301\n",
      "Epoch 4. Loss: 0.324319, Train acc 0.880807, Test acc 0.886523\n",
      "Epoch 5. Loss: 0.310508, Train acc 0.885566, Test acc 0.887695\n",
      "Epoch 6. Loss: 0.299311, Train acc 0.891351, Test acc 0.884863\n",
      "Epoch 7. Loss: 0.286208, Train acc 0.894182, Test acc 0.893457\n",
      "Epoch 8. Loss: 0.282674, Train acc 0.895850, Test acc 0.894629\n",
      "Epoch 9. Loss: 0.269248, Train acc 0.900393, Test acc 0.893945\n"
     ]
    }
   ],
   "source": [
    "# 训练\n",
    "from mxnet import autograd as autograd\n",
    "from utils import SGD, accuracy, evaluate_accuracy\n",
    "from mxnet import gluon\n",
    "\n",
    "softmax_cross_entropy = gluon.loss.SoftmaxCrossEntropyLoss()\n",
    "\n",
    "learning_rate = .2\n",
    "\n",
    "for epoch in range(10):\n",
    "    train_loss = 0.\n",
    "    train_acc = 0.\n",
    "    for data, label in train_data:\n",
    "        label = label.as_in_context(ctx)\n",
    "        with autograd.record():\n",
    "            output = net(data)\n",
    "            loss = softmax_cross_entropy(output, label)\n",
    "        loss.backward()\n",
    "        SGD(params, learning_rate / batch_size)\n",
    "        \n",
    "        train_loss += nd.mean(loss).asscalar()\n",
    "        train_acc += accuracy(output, label)\n",
    "    \n",
    "    test_acc = evaluate_accuracy(test_data, net, ctx)\n",
    "    print(\"Epoch %d. Loss: %f, Train acc %f, Test acc %f\" % (\n",
    "        epoch, train_loss/len(train_data),\n",
    "        train_acc/len(train_data), test_acc))"
   ]
  },
  {
   "cell_type": "code",
   "execution_count": null,
   "metadata": {},
   "outputs": [],
   "source": []
  }
 ],
 "metadata": {
  "kernelspec": {
   "display_name": "Python 3",
   "language": "python",
   "name": "python3"
  },
  "language_info": {
   "codemirror_mode": {
    "name": "ipython",
    "version": 3
   },
   "file_extension": ".py",
   "mimetype": "text/x-python",
   "name": "python",
   "nbconvert_exporter": "python",
   "pygments_lexer": "ipython3",
   "version": "3.6.4"
  }
 },
 "nbformat": 4,
 "nbformat_minor": 2
}
