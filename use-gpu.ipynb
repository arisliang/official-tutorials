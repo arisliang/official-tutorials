{
 "cells": [
  {
   "cell_type": "code",
   "execution_count": 1,
   "metadata": {},
   "outputs": [
    {
     "name": "stdout",
     "output_type": "stream",
     "text": [
      "Fri Apr 13 20:46:38 2018       \r\n",
      "+-----------------------------------------------------------------------------+\r\n",
      "| NVIDIA-SMI 390.30                 Driver Version: 390.30                    |\r\n",
      "|-------------------------------+----------------------+----------------------+\r\n",
      "| GPU  Name        Persistence-M| Bus-Id        Disp.A | Volatile Uncorr. ECC |\r\n",
      "| Fan  Temp  Perf  Pwr:Usage/Cap|         Memory-Usage | GPU-Util  Compute M. |\r\n",
      "|===============================+======================+======================|\r\n",
      "|   0  GeForce GTX 106...  Off  | 00000000:01:00.0 Off |                  N/A |\r\n",
      "|  0%   39C    P5     9W / 140W |    432MiB /  6078MiB |      0%      Default |\r\n",
      "+-------------------------------+----------------------+----------------------+\r\n",
      "                                                                               \r\n",
      "+-----------------------------------------------------------------------------+\r\n",
      "| Processes:                                                       GPU Memory |\r\n",
      "|  GPU       PID   Type   Process name                             Usage      |\r\n",
      "|=============================================================================|\r\n",
      "|    0      1079      G   /usr/lib/xorg/Xorg                           320MiB |\r\n",
      "|    0      2189      G   compiz                                        28MiB |\r\n",
      "|    0      2212      G   fcitx-qimpanel                                 6MiB |\r\n",
      "|    0      6785      G   /usr/bin/nvidia-settings                       0MiB |\r\n",
      "|    0     21014      G   ...-token=39AB9945A22B6305F321A7148E3FA2DA    72MiB |\r\n",
      "+-----------------------------------------------------------------------------+\r\n"
     ]
    }
   ],
   "source": [
    "# GPU计算\n",
    "!nvidia-smi"
   ]
  },
  {
   "cell_type": "code",
   "execution_count": 1,
   "metadata": {},
   "outputs": [
    {
     "name": "stdout",
     "output_type": "stream",
     "text": [
      "Name: mxnet-cu90\n",
      "Version: 1.2.0b20180413\n",
      "Summary: MXNet is an ultra-scalable deep learning framework. This version uses CUDA-9.0.\n",
      "Home-page: https://github.com/apache/incubator-mxnet\n",
      "Author: UNKNOWN\n",
      "Author-email: UNKNOWN\n",
      "License: Apache 2.0\n",
      "Location: /home/ly/anaconda3/envs/learning/lib/python3.6/site-packages\n",
      "Requires: requests, numpy, graphviz\n"
     ]
    }
   ],
   "source": [
    "import pip\n",
    "for pkg in ['mxnet', 'mxnet-cu75', 'mxnet-cu80', 'mxnet-cu90']:\n",
    "    pip.main(['show', pkg])"
   ]
  },
  {
   "cell_type": "code",
   "execution_count": 2,
   "metadata": {},
   "outputs": [
    {
     "name": "stderr",
     "output_type": "stream",
     "text": [
      "/home/ly/anaconda3/envs/learning/lib/python3.6/site-packages/h5py/__init__.py:36: FutureWarning: Conversion of the second argument of issubdtype from `float` to `np.floating` is deprecated. In future, it will be treated as `np.float64 == np.dtype(float).type`.\n",
      "  from ._conv import register_converters as _register_converters\n"
     ]
    },
    {
     "data": {
      "text/plain": [
       "[cpu(0), gpu(0), gpu(1)]"
      ]
     },
     "execution_count": 2,
     "metadata": {},
     "output_type": "execute_result"
    }
   ],
   "source": [
    "import mxnet as mx\n",
    "[mx.cpu(), mx.gpu(), mx.gpu(1)]"
   ]
  },
  {
   "cell_type": "code",
   "execution_count": 3,
   "metadata": {},
   "outputs": [
    {
     "data": {
      "text/plain": [
       "cpu(0)"
      ]
     },
     "execution_count": 3,
     "metadata": {},
     "output_type": "execute_result"
    }
   ],
   "source": [
    "# NDArray的GPU计算\n",
    "from mxnet import nd\n",
    "x = nd.array([1,2,3])\n",
    "x.context"
   ]
  },
  {
   "cell_type": "code",
   "execution_count": 13,
   "metadata": {},
   "outputs": [
    {
     "name": "stdout",
     "output_type": "stream",
     "text": [
      "\n",
      "[0. 0.]\n",
      "<NDArray 2 @gpu(0)>\n"
     ]
    },
    {
     "data": {
      "text/plain": [
       "(\n",
       " [1. 2. 3.]\n",
       " <NDArray 3 @gpu(0)>, \n",
       " [[0. 0.]\n",
       "  [0. 0.]\n",
       "  [0. 0.]]\n",
       " <NDArray 3x2 @gpu(0)>, \n",
       " [[0.6369917  0.12847    0.17249882]\n",
       "  [0.9368206  0.59183455 0.94970965]]\n",
       " <NDArray 2x3 @gpu(0)>)"
      ]
     },
     "execution_count": 13,
     "metadata": {},
     "output_type": "execute_result"
    }
   ],
   "source": [
    "# GPU上创建内存\n",
    "a = nd.array([1,2,3], ctx=mx.gpu())\n",
    "b = nd.zeros((3,2), ctx=mx.gpu())\n",
    "c = nd.random.uniform(shape=(2,3), ctx=mx.gpu())\n",
    "print(nd.dot(a,b))\n",
    "(a,b,c)"
   ]
  },
  {
   "cell_type": "code",
   "execution_count": 9,
   "metadata": {},
   "outputs": [
    {
     "name": "stderr",
     "output_type": "stream",
     "text": [
      "[10:36:25] src/storage/storage.cc:65: Check failed: e == cudaSuccess || e == cudaErrorCudartUnloading CUDA: invalid device ordinal\n",
      "\n",
      "Stack trace returned 10 entries:\n",
      "[bt] (0) /home/ly/anaconda3/envs/learning/lib/python3.6/site-packages/mxnet/libmxnet.so(+0x3032da) [0x7fd34f4862da]\n",
      "[bt] (1) /home/ly/anaconda3/envs/learning/lib/python3.6/site-packages/mxnet/libmxnet.so(+0x303901) [0x7fd34f486901]\n",
      "[bt] (2) /home/ly/anaconda3/envs/learning/lib/python3.6/site-packages/mxnet/libmxnet.so(+0x28e9b9f) [0x7fd351a6cb9f]\n",
      "[bt] (3) /home/ly/anaconda3/envs/learning/lib/python3.6/site-packages/mxnet/libmxnet.so(+0x28f08f8) [0x7fd351a738f8]\n",
      "[bt] (4) /home/ly/anaconda3/envs/learning/lib/python3.6/site-packages/mxnet/libmxnet.so(+0x23f2516) [0x7fd351575516]\n",
      "[bt] (5) /home/ly/anaconda3/envs/learning/lib/python3.6/site-packages/mxnet/libmxnet.so(MXNDArrayCreateEx+0x158) [0x7fd351575d88]\n",
      "[bt] (6) /home/ly/anaconda3/envs/learning/lib/python3.6/lib-dynload/../../libffi.so.6(ffi_call_unix64+0x4c) [0x7fd3ab487ec0]\n",
      "[bt] (7) /home/ly/anaconda3/envs/learning/lib/python3.6/lib-dynload/../../libffi.so.6(ffi_call+0x22d) [0x7fd3ab48787d]\n",
      "[bt] (8) /home/ly/anaconda3/envs/learning/lib/python3.6/lib-dynload/_ctypes.cpython-36m-x86_64-linux-gnu.so(_ctypes_callproc+0x2ce) [0x7fd3ab69cdee]\n",
      "[bt] (9) /home/ly/anaconda3/envs/learning/lib/python3.6/lib-dynload/_ctypes.cpython-36m-x86_64-linux-gnu.so(+0x12825) [0x7fd3ab69d825]\n",
      "\n"
     ]
    }
   ],
   "source": [
    "import sys\n",
    "try:\n",
    "    nd.array([1,2,3], ctx=mx.gpu(10))\n",
    "except mx.MXNetError as err:\n",
    "    sys.stderr.write(str(err))\n"
   ]
  },
  {
   "cell_type": "code",
   "execution_count": 16,
   "metadata": {},
   "outputs": [
    {
     "data": {
      "text/plain": [
       "(\n",
       " [1. 2. 3.]\n",
       " <NDArray 3 @gpu(0)>, \n",
       " [1. 2. 3.]\n",
       " <NDArray 3 @gpu(0)>)"
      ]
     },
     "execution_count": 16,
     "metadata": {},
     "output_type": "execute_result"
    }
   ],
   "source": [
    "y = x.copyto(mx.gpu())\n",
    "z = x.as_in_context(mx.gpu())\n",
    "(y, z)"
   ]
  },
  {
   "cell_type": "code",
   "execution_count": 17,
   "metadata": {},
   "outputs": [
    {
     "data": {
      "text/plain": [
       "(True, False)"
      ]
     },
     "execution_count": 17,
     "metadata": {},
     "output_type": "execute_result"
    }
   ],
   "source": [
    "yy = y.as_in_context(mx.gpu())\n",
    "zz = z.copyto(mx.gpu())\n",
    "(yy is y, zz is z)"
   ]
  },
  {
   "cell_type": "code",
   "execution_count": 18,
   "metadata": {},
   "outputs": [
    {
     "data": {
      "text/plain": [
       "\n",
       "[ 20.085537 109.1963   445.2395  ]\n",
       "<NDArray 3 @gpu(0)>"
      ]
     },
     "execution_count": 18,
     "metadata": {},
     "output_type": "execute_result"
    }
   ],
   "source": [
    "# GPU上的计算\n",
    "nd.exp(z+2)*y"
   ]
  },
  {
   "cell_type": "code",
   "execution_count": 20,
   "metadata": {},
   "outputs": [
    {
     "name": "stderr",
     "output_type": "stream",
     "text": [
      "[10:39:24] src/imperative/./imperative_utils.h:55: Check failed: inputs[i]->ctx().dev_mask() == ctx.dev_mask() (2 vs. 1) Operator broadcast_add require all inputs live on the same context. But the first argument is on cpu(0) while the 2-th argument is on gpu(0)\n",
      "\n",
      "Stack trace returned 10 entries:\n",
      "[bt] (0) /home/ly/anaconda3/envs/learning/lib/python3.6/site-packages/mxnet/libmxnet.so(+0x3032da) [0x7fd34f4862da]\n",
      "[bt] (1) /home/ly/anaconda3/envs/learning/lib/python3.6/site-packages/mxnet/libmxnet.so(+0x303901) [0x7fd34f486901]\n",
      "[bt] (2) /home/ly/anaconda3/envs/learning/lib/python3.6/site-packages/mxnet/libmxnet.so(+0x24e392d) [0x7fd35166692d]\n",
      "[bt] (3) /home/ly/anaconda3/envs/learning/lib/python3.6/site-packages/mxnet/libmxnet.so(+0x24ea569) [0x7fd35166d569]\n",
      "[bt] (4) /home/ly/anaconda3/envs/learning/lib/python3.6/site-packages/mxnet/libmxnet.so(+0x241c2a9) [0x7fd35159f2a9]\n",
      "[bt] (5) /home/ly/anaconda3/envs/learning/lib/python3.6/site-packages/mxnet/libmxnet.so(MXImperativeInvokeEx+0x6f) [0x7fd35159f89f]\n",
      "[bt] (6) /home/ly/anaconda3/envs/learning/lib/python3.6/lib-dynload/../../libffi.so.6(ffi_call_unix64+0x4c) [0x7fd3ab487ec0]\n",
      "[bt] (7) /home/ly/anaconda3/envs/learning/lib/python3.6/lib-dynload/../../libffi.so.6(ffi_call+0x22d) [0x7fd3ab48787d]\n",
      "[bt] (8) /home/ly/anaconda3/envs/learning/lib/python3.6/lib-dynload/_ctypes.cpython-36m-x86_64-linux-gnu.so(_ctypes_callproc+0x2ce) [0x7fd3ab69cdee]\n",
      "[bt] (9) /home/ly/anaconda3/envs/learning/lib/python3.6/lib-dynload/_ctypes.cpython-36m-x86_64-linux-gnu.so(+0x12825) [0x7fd3ab69d825]\n",
      "\n"
     ]
    }
   ],
   "source": [
    "try:\n",
    "    x+y\n",
    "except mx.MXNetError as err:\n",
    "    sys.stderr.write(str(err))"
   ]
  },
  {
   "cell_type": "code",
   "execution_count": 25,
   "metadata": {},
   "outputs": [
    {
     "name": "stdout",
     "output_type": "stream",
     "text": [
      "\n",
      "[1. 2. 3.]\n",
      "<NDArray 3 @gpu(0)>\n",
      "[1. 2. 3.]\n",
      "6.0\n",
      "\n",
      "[6.]\n",
      "<NDArray 1 @gpu(0)>\n"
     ]
    }
   ],
   "source": [
    "# 默认会复制回CPU的操作\n",
    "print(y)\n",
    "print(y.asnumpy())\n",
    "print(y.sum().asscalar())\n",
    "print(y.sum())"
   ]
  },
  {
   "cell_type": "code",
   "execution_count": 27,
   "metadata": {},
   "outputs": [
    {
     "name": "stdout",
     "output_type": "stream",
     "text": [
      "Sequential(\n",
      "  (0): Dense(None -> 1, linear)\n",
      ")\n"
     ]
    }
   ],
   "source": [
    "# Gluon的GPU计算\n",
    "from mxnet import gluon\n",
    "net = gluon.nn.Sequential()\n",
    "net.add(gluon.nn.Dense(1))\n",
    "net.initialize(ctx=mx.gpu())\n",
    "print(net)"
   ]
  },
  {
   "cell_type": "code",
   "execution_count": 30,
   "metadata": {},
   "outputs": [
    {
     "data": {
      "text/plain": [
       "\n",
       "[[0.01246436]\n",
       " [0.00535382]\n",
       " [0.00620071]]\n",
       "<NDArray 3x1 @gpu(0)>"
      ]
     },
     "execution_count": 30,
     "metadata": {},
     "output_type": "execute_result"
    }
   ],
   "source": [
    "data = nd.random.uniform(shape=[3,2], ctx=mx.gpu())\n",
    "net(data)"
   ]
  },
  {
   "cell_type": "code",
   "execution_count": 31,
   "metadata": {},
   "outputs": [
    {
     "data": {
      "text/plain": [
       "\n",
       "[[0.0068339  0.01299825]]\n",
       "<NDArray 1x2 @gpu(0)>"
      ]
     },
     "execution_count": 31,
     "metadata": {},
     "output_type": "execute_result"
    }
   ],
   "source": [
    "net[0].weight.data()"
   ]
  },
  {
   "cell_type": "code",
   "execution_count": null,
   "metadata": {},
   "outputs": [],
   "source": []
  }
 ],
 "metadata": {
  "kernelspec": {
   "display_name": "Python 3",
   "language": "python",
   "name": "python3"
  },
  "language_info": {
   "codemirror_mode": {
    "name": "ipython",
    "version": 3
   },
   "file_extension": ".py",
   "mimetype": "text/x-python",
   "name": "python",
   "nbconvert_exporter": "python",
   "pygments_lexer": "ipython3",
   "version": "3.6.4"
  }
 },
 "nbformat": 4,
 "nbformat_minor": 2
}
