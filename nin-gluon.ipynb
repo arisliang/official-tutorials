{
 "cells": [
  {
   "cell_type": "code",
   "execution_count": 1,
   "metadata": {},
   "outputs": [
    {
     "name": "stderr",
     "output_type": "stream",
     "text": [
      "/home/ly/anaconda3/envs/learning/lib/python3.6/site-packages/h5py/__init__.py:36: FutureWarning: Conversion of the second argument of issubdtype from `float` to `np.floating` is deprecated. In future, it will be treated as `np.float64 == np.dtype(float).type`.\n",
      "  from ._conv import register_converters as _register_converters\n"
     ]
    }
   ],
   "source": [
    "# 网络中的网络\n",
    "# http://zh.gluon.ai/chapter_convolutional-neural-networks/nin-gluon.html\n",
    "\n",
    "from mxnet.gluon import nn\n",
    "\n",
    "def mlpconv(channels, kernel_size, padding,\n",
    "           strides=1, max_pooling=True):\n",
    "    out = nn.Sequential()\n",
    "    out.add(\n",
    "        nn.Conv2D(channels=channels, kernel_size=kernel_size,\n",
    "                 strides=strides, padding=padding,\n",
    "                 activation='relu'),\n",
    "        nn.Conv2D(channels=channels, kernel_size=1,\n",
    "                 strides=1, padding=0, activation='relu'),\n",
    "        nn.Conv2D(channels=channels, kernel_size=1,\n",
    "                 strides=1, padding=0, activation='relu')\n",
    "    )\n",
    "    if max_pooling:\n",
    "        out.add(nn.MaxPool2D(pool_size=3, strides=2))\n",
    "    return out"
   ]
  },
  {
   "cell_type": "code",
   "execution_count": 2,
   "metadata": {},
   "outputs": [
    {
     "name": "stdout",
     "output_type": "stream",
     "text": [
      "(32, 64, 7, 7)\n",
      "Sequential(\n",
      "  (0): Conv2D(3 -> 64, kernel_size=(3, 3), stride=(1, 1), padding=(1, 1))\n",
      "  (1): Conv2D(64 -> 64, kernel_size=(1, 1), stride=(1, 1))\n",
      "  (2): Conv2D(64 -> 64, kernel_size=(1, 1), stride=(1, 1))\n",
      "  (3): MaxPool2D(size=(3, 3), stride=(2, 2), padding=(0, 0), ceil_mode=False)\n",
      ")\n"
     ]
    }
   ],
   "source": [
    "from mxnet import nd\n",
    "\n",
    "blk = mlpconv(64, 3, 1)\n",
    "blk.initialize()\n",
    "\n",
    "x=nd.random.uniform(shape=(32, 3, 16, 16))\n",
    "y = blk(x)\n",
    "print(y.shape)\n",
    "print(blk)"
   ]
  },
  {
   "cell_type": "code",
   "execution_count": 3,
   "metadata": {},
   "outputs": [
    {
     "name": "stdout",
     "output_type": "stream",
     "text": [
      "Sequential(\n",
      "  (0): Sequential(\n",
      "    (0): Conv2D(None -> 96, kernel_size=(11, 11), stride=(4, 4))\n",
      "    (1): Conv2D(None -> 96, kernel_size=(1, 1), stride=(1, 1))\n",
      "    (2): Conv2D(None -> 96, kernel_size=(1, 1), stride=(1, 1))\n",
      "    (3): MaxPool2D(size=(3, 3), stride=(2, 2), padding=(0, 0), ceil_mode=False)\n",
      "  )\n",
      "  (1): Sequential(\n",
      "    (0): Conv2D(None -> 256, kernel_size=(5, 5), stride=(1, 1), padding=(2, 2))\n",
      "    (1): Conv2D(None -> 256, kernel_size=(1, 1), stride=(1, 1))\n",
      "    (2): Conv2D(None -> 256, kernel_size=(1, 1), stride=(1, 1))\n",
      "    (3): MaxPool2D(size=(3, 3), stride=(2, 2), padding=(0, 0), ceil_mode=False)\n",
      "  )\n",
      "  (2): Sequential(\n",
      "    (0): Conv2D(None -> 384, kernel_size=(3, 3), stride=(1, 1), padding=(1, 1))\n",
      "    (1): Conv2D(None -> 384, kernel_size=(1, 1), stride=(1, 1))\n",
      "    (2): Conv2D(None -> 384, kernel_size=(1, 1), stride=(1, 1))\n",
      "    (3): MaxPool2D(size=(3, 3), stride=(2, 2), padding=(0, 0), ceil_mode=False)\n",
      "  )\n",
      "  (3): Dropout(p = 0.5, axes=())\n",
      "  (4): Sequential(\n",
      "    (0): Conv2D(None -> 10, kernel_size=(3, 3), stride=(1, 1), padding=(1, 1))\n",
      "    (1): Conv2D(None -> 10, kernel_size=(1, 1), stride=(1, 1))\n",
      "    (2): Conv2D(None -> 10, kernel_size=(1, 1), stride=(1, 1))\n",
      "  )\n",
      "  (5): GlobalAvgPool2D(size=(1, 1), stride=(1, 1), padding=(0, 0), ceil_mode=True)\n",
      "  (6): Flatten\n",
      ")\n"
     ]
    }
   ],
   "source": [
    "net = nn.Sequential()\n",
    "# add name_scope on the outer most Sequential\n",
    "with net.name_scope():\n",
    "    net.add(\n",
    "        mlpconv(96, 11, 0, strides=4),\n",
    "        mlpconv(256, 5, 2),\n",
    "        mlpconv(384, 3, 1),\n",
    "        nn.Dropout(.5),\n",
    "        # 目标类为10类\n",
    "        mlpconv(10, 3, 1, max_pooling=False),\n",
    "        # 输入为 batch_size x 10 x 5 x 5, 通过AvgPool2D转成\n",
    "        # batch_size x 10 x 1 x 1。\n",
    "        # 我们可以使用 nn.AvgPool2D(pool_size=5),\n",
    "        # 但更方便是使用全局池化，可以避免估算pool_size大小\n",
    "        nn.GlobalAvgPool2D(),\n",
    "        # 转成 batch_size x 10\n",
    "        nn.Flatten()\n",
    "    )\n",
    "print(net)"
   ]
  },
  {
   "cell_type": "code",
   "execution_count": 4,
   "metadata": {
    "scrolled": false
   },
   "outputs": [
    {
     "name": "stdout",
     "output_type": "stream",
     "text": [
      "gpu(1)\n",
      "Sequential(\n",
      "  (0): Sequential(\n",
      "    (0): Conv2D(1 -> 96, kernel_size=(11, 11), stride=(4, 4))\n",
      "    (1): Conv2D(96 -> 96, kernel_size=(1, 1), stride=(1, 1))\n",
      "    (2): Conv2D(96 -> 96, kernel_size=(1, 1), stride=(1, 1))\n",
      "    (3): MaxPool2D(size=(3, 3), stride=(2, 2), padding=(0, 0), ceil_mode=False)\n",
      "  )\n",
      "  (1): Sequential(\n",
      "    (0): Conv2D(96 -> 256, kernel_size=(5, 5), stride=(1, 1), padding=(2, 2))\n",
      "    (1): Conv2D(256 -> 256, kernel_size=(1, 1), stride=(1, 1))\n",
      "    (2): Conv2D(256 -> 256, kernel_size=(1, 1), stride=(1, 1))\n",
      "    (3): MaxPool2D(size=(3, 3), stride=(2, 2), padding=(0, 0), ceil_mode=False)\n",
      "  )\n",
      "  (2): Sequential(\n",
      "    (0): Conv2D(256 -> 384, kernel_size=(3, 3), stride=(1, 1), padding=(1, 1))\n",
      "    (1): Conv2D(384 -> 384, kernel_size=(1, 1), stride=(1, 1))\n",
      "    (2): Conv2D(384 -> 384, kernel_size=(1, 1), stride=(1, 1))\n",
      "    (3): MaxPool2D(size=(3, 3), stride=(2, 2), padding=(0, 0), ceil_mode=False)\n",
      "  )\n",
      "  (3): Dropout(p = 0.5, axes=())\n",
      "  (4): Sequential(\n",
      "    (0): Conv2D(384 -> 10, kernel_size=(3, 3), stride=(1, 1), padding=(1, 1))\n",
      "    (1): Conv2D(10 -> 10, kernel_size=(1, 1), stride=(1, 1))\n",
      "    (2): Conv2D(10 -> 10, kernel_size=(1, 1), stride=(1, 1))\n",
      "  )\n",
      "  (5): GlobalAvgPool2D(size=(1, 1), stride=(1, 1), padding=(0, 0), ceil_mode=True)\n",
      "  (6): Flatten\n",
      ")\n"
     ]
    }
   ],
   "source": [
    "# 读取数据\n",
    "import sys\n",
    "sys.path.append('..')\n",
    "import utils\n",
    "from mxnet import autograd\n",
    "from mxnet import gluon\n",
    "from mxnet import nd\n",
    "from mxnet import image\n",
    "from mxnet import init\n",
    "\n",
    "batch_size = 64\n",
    "resize=224\n",
    "\n",
    "ctx = utils.try_gpu(1)\n",
    "net.initialize(ctx=ctx, init=init.Xavier())\n",
    "\n",
    "x = nd.random.uniform(shape=(batch_size, 1, resize, resize), ctx=ctx)\n",
    "y = net(x)\n",
    "print(y.context)\n",
    "print(net)\n",
    "\n",
    "def transform(data, label):\n",
    "#     print(data.shape)   # (28, 28, 1)\n",
    "#     print(label.shape)    # (1,)\n",
    "# change data from batch x height x width x channel\n",
    "# to batch x channel x height x width\n",
    "#     return nd.transpose(data.astype('float32'), (0,3,1,2))/255, label.astype('float32')\n",
    "    data = image.imresize(data, resize, resize)\n",
    "#     data = new_data\n",
    "            \n",
    "    return nd.transpose(data.astype('float32'), (2,0,1))/255, label.astype('float32')\n",
    "#     return data.astype('float32') / 255, label.astype('float32')\n",
    "mnist_train = gluon.data.vision.FashionMNIST(train=True, transform=transform)\n",
    "mnist_test = gluon.data.vision.FashionMNIST(train=False, transform=transform)\n",
    "train_data = gluon.data.DataLoader(mnist_train, batch_size, shuffle=True)\n",
    "test_data = gluon.data.DataLoader(mnist_test, batch_size, shuffle=False)"
   ]
  },
  {
   "cell_type": "code",
   "execution_count": 5,
   "metadata": {},
   "outputs": [
    {
     "name": "stdout",
     "output_type": "stream",
     "text": [
      "Epoch 0. Loss: 1.6594, Train acc 0.3832, Test acc 0.6424, Time 116 sec\n",
      "Epoch 1. Loss: 0.6830, Train acc 0.7457, Test acc 0.8108, Time 113 sec\n",
      "Epoch 2. Loss: 0.5065, Train acc 0.8120, Test acc 0.8230, Time 112 sec\n",
      "Epoch 3. Loss: 0.4361, Train acc 0.8385, Test acc 0.8406, Time 113 sec\n",
      "Epoch 4. Loss: 0.3911, Train acc 0.8558, Test acc 0.8613, Time 114 sec\n",
      "Epoch 5. Loss: 0.3613, Train acc 0.8654, Test acc 0.8814, Time 113 sec\n",
      "Epoch 6. Loss: 0.3414, Train acc 0.8747, Test acc 0.8860, Time 114 sec\n",
      "Epoch 7. Loss: 0.3201, Train acc 0.8830, Test acc 0.8911, Time 115 sec\n",
      "Epoch 8. Loss: 0.3041, Train acc 0.8886, Test acc 0.8939, Time 111 sec\n",
      "Epoch 9. Loss: 0.2898, Train acc 0.8942, Test acc 0.9045, Time 112 sec\n"
     ]
    }
   ],
   "source": [
    "# 训练\n",
    "import time\n",
    "from mxnet import gluon\n",
    "\n",
    "softmax_cross_entropy = gluon.loss.SoftmaxCrossEntropyLoss()\n",
    "\n",
    "trainer = gluon.Trainer(net.collect_params(), 'sgd', {\n",
    "    'learning_rate': 0.1\n",
    "})\n",
    "\n",
    "print_net = False\n",
    "\n",
    "for epoch in range(10):\n",
    "    time_start = time.time()\n",
    "    train_loss = 0.\n",
    "    train_acc = 0.\n",
    "    for data, label in train_data:\n",
    "        label = label.as_in_context(ctx)\n",
    "        with autograd.record():\n",
    "            output = net(data.as_in_context(ctx))\n",
    "            loss = softmax_cross_entropy(output, label)\n",
    "        if print_net:\n",
    "            print(net)\n",
    "            print_net = False\n",
    "        loss.backward()\n",
    "        trainer.step(batch_size)\n",
    "\n",
    "        train_loss += nd.mean(loss).asscalar()\n",
    "        train_acc += utils.accuracy(output, label)\n",
    "    test_acc = utils.evaluate_accuracy(test_data, net, ctx)\n",
    "    print(\"Epoch %d. Loss: %.4f, Train acc %.4f, Test acc %.4f, Time %.0f sec\" % (\n",
    "        epoch, train_loss/len(train_data),\n",
    "        train_acc/len(train_data), test_acc, time.time() - time_start))"
   ]
  }
 ],
 "metadata": {
  "kernelspec": {
   "display_name": "Python 3",
   "language": "python",
   "name": "python3"
  },
  "language_info": {
   "codemirror_mode": {
    "name": "ipython",
    "version": 3
   },
   "file_extension": ".py",
   "mimetype": "text/x-python",
   "name": "python",
   "nbconvert_exporter": "python",
   "pygments_lexer": "ipython3",
   "version": "3.6.4"
  }
 },
 "nbformat": 4,
 "nbformat_minor": 2
}
