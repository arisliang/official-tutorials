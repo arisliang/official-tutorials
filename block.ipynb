{
 "cells": [
  {
   "cell_type": "code",
   "execution_count": 2,
   "metadata": {},
   "outputs": [
    {
     "name": "stderr",
     "output_type": "stream",
     "text": [
      "/home/ly/anaconda3/envs/learning/lib/python3.6/site-packages/h5py/__init__.py:36: FutureWarning: Conversion of the second argument of issubdtype from `float` to `np.floating` is deprecated. In future, it will be treated as `np.float64 == np.dtype(float).type`.\n",
      "  from ._conv import register_converters as _register_converters\n"
     ]
    },
    {
     "name": "stdout",
     "output_type": "stream",
     "text": [
      "Sequential(\n",
      "  (0): Dense(None -> 256, Activation(relu))\n",
      "  (1): Dense(None -> 10, linear)\n",
      ")\n"
     ]
    }
   ],
   "source": [
    "# 模型构造\n",
    "# http://zh.gluon.ai/chapter_gluon-basics/block.html\n",
    "\n",
    "# 多层感知机的计算\n",
    "from mxnet import nd\n",
    "from mxnet.gluon import nn\n",
    "\n",
    "net = nn.Sequential()\n",
    "with net.name_scope():\n",
    "    net.add(nn.Dense(256, activation='relu'))\n",
    "    net.add(nn.Dense(10))\n",
    "print(net)"
   ]
  },
  {
   "cell_type": "code",
   "execution_count": 3,
   "metadata": {},
   "outputs": [
    {
     "name": "stdout",
     "output_type": "stream",
     "text": [
      "Sequential(\n",
      "  (0): Dense(20 -> 256, Activation(relu))\n",
      "  (1): Dense(256 -> 10, linear)\n",
      ")\n",
      "\n",
      "[[ 0.03126615  0.04562764  0.00039857 -0.08772386 -0.05355632  0.02904574\n",
      "   0.08102557 -0.01433946 -0.04224151  0.06047882]\n",
      " [ 0.02871901  0.03652265  0.00630051 -0.05650971 -0.07189322  0.08615957\n",
      "   0.05951559 -0.06045965 -0.0299026   0.05651001]\n",
      " [ 0.02147349  0.04818896  0.05321142 -0.12616856 -0.0685023   0.09096345\n",
      "   0.04064304 -0.05064794 -0.02200242  0.04859561]\n",
      " [ 0.03780478  0.0751239   0.03290457 -0.11641113 -0.03254967  0.0586529\n",
      "   0.02542157 -0.01697343 -0.00049652  0.05892839]]\n",
      "<NDArray 4x10 @cpu(0)>\n"
     ]
    }
   ],
   "source": [
    "net.initialize()\n",
    "x = nd.random.uniform(shape=(4, 20))\n",
    "y = net(x)\n",
    "print(net)\n",
    "print(y)"
   ]
  },
  {
   "cell_type": "code",
   "execution_count": 11,
   "metadata": {},
   "outputs": [],
   "source": [
    "# 使用 nn.Block 构造模型\n",
    "class MLP(nn.Block):\n",
    "    def __init__(self, **kwargs):\n",
    "        super(MLP, self).__init__(**kwargs)\n",
    "        with self.name_scope():\n",
    "            self.dense0 = nn.Dense(256)\n",
    "            self.dense1 = nn.Dense(10)\n",
    "    def forward(self, x):\n",
    "        return self.dense1(nd.relu(self.dense0(x)))"
   ]
  },
  {
   "cell_type": "code",
   "execution_count": 13,
   "metadata": {},
   "outputs": [
    {
     "name": "stdout",
     "output_type": "stream",
     "text": [
      "MLP(\n",
      "  (dense0): Dense(None -> 256, linear)\n",
      "  (dense1): Dense(None -> 10, linear)\n",
      ")\n"
     ]
    },
    {
     "data": {
      "text/plain": [
       "\n",
       "[[ 0.02611046 -0.00898641  0.04863964 -0.03597313  0.08567166 -0.03285579\n",
       "   0.00181929 -0.02620459  0.01748283 -0.00853055]\n",
       " [ 0.00497482  0.01554187  0.04043619 -0.02491888  0.0717035  -0.0377518\n",
       "   0.00745001  0.0081154   0.03080349 -0.00300385]\n",
       " [ 0.01212909 -0.02291088  0.05410973 -0.0643751   0.08853698 -0.02997083\n",
       "  -0.02801304 -0.00600521  0.03243509 -0.00871116]\n",
       " [ 0.01189529 -0.00181999  0.02517185  0.00576071  0.03568135 -0.04611992\n",
       "   0.03752039 -0.00957203  0.01495805 -0.0060389 ]]\n",
       "<NDArray 4x10 @cpu(0)>"
      ]
     },
     "execution_count": 13,
     "metadata": {},
     "output_type": "execute_result"
    }
   ],
   "source": [
    "net2 = MLP()\n",
    "print(net2)\n",
    "net2.initialize()\n",
    "x = nd.random.uniform(shape=(4, 20))\n",
    "y = net2(x)\n",
    "y"
   ]
  },
  {
   "cell_type": "code",
   "execution_count": 14,
   "metadata": {},
   "outputs": [
    {
     "data": {
      "text/plain": [
       "mxnet.gluon.nn.basic_layers.Dense"
      ]
     },
     "execution_count": 14,
     "metadata": {},
     "output_type": "execute_result"
    }
   ],
   "source": [
    "nn.Dense"
   ]
  },
  {
   "cell_type": "code",
   "execution_count": 16,
   "metadata": {},
   "outputs": [
    {
     "name": "stdout",
     "output_type": "stream",
     "text": [
      "customized prefix: another_mlp_dense0\n",
      "MLP(\n",
      "  (dense0): Dense(None -> 256, linear)\n",
      "  (dense1): Dense(None -> 10, linear)\n",
      ")\n"
     ]
    }
   ],
   "source": [
    "net3 = MLP(prefix='another_mlp_')\n",
    "print('customized prefix:', net3.dense0.name)\n",
    "print(net3)"
   ]
  },
  {
   "cell_type": "code",
   "execution_count": 20,
   "metadata": {},
   "outputs": [],
   "source": [
    "# nn.Sequential\n",
    "class Sequential2(nn.Block):\n",
    "    def __init__(self, **kwargs):\n",
    "        super(Sequential2, self).__init__(**kwargs)\n",
    "    def add(self, block):\n",
    "        self._children.append(block)\n",
    "    def forward(self, x):\n",
    "        for block in self._children:\n",
    "            x = block(x)\n",
    "        return x"
   ]
  },
  {
   "cell_type": "code",
   "execution_count": 22,
   "metadata": {},
   "outputs": [
    {
     "data": {
      "text/plain": [
       "\n",
       "[[-0.02542969  0.01105447 -0.02126193  0.01974962 -0.02856903  0.04831402\n",
       "  -0.00491117  0.03298518 -0.08613102 -0.05270944]\n",
       " [-0.02791293  0.02870862  0.01503616  0.00348095 -0.00159181 -0.0207642\n",
       "   0.02418825  0.04087722 -0.07049553 -0.06113587]\n",
       " [-0.0341648  -0.02236486  0.03288743  0.00123798 -0.01106082 -0.00410438\n",
       "   0.04807579  0.04631495 -0.08527313 -0.04669718]\n",
       " [-0.03053684  0.04171332  0.00441197 -0.00048724 -0.02169376  0.0202373\n",
       "  -0.00683418  0.06006115 -0.05523611 -0.01838877]]\n",
       "<NDArray 4x10 @cpu(0)>"
      ]
     },
     "execution_count": 22,
     "metadata": {},
     "output_type": "execute_result"
    }
   ],
   "source": [
    "net4 = Sequential2()\n",
    "with net.name_scope():\n",
    "    net4.add(nn.Dense(256, activation='relu'))\n",
    "    net4.add(nn.Dense(10))\n",
    "net4.initialize()\n",
    "y = net4(x)\n",
    "y"
   ]
  },
  {
   "cell_type": "code",
   "execution_count": 23,
   "metadata": {},
   "outputs": [],
   "source": [
    "class FancyMLP(nn.Block):\n",
    "    def __init__(self, **kwargs):\n",
    "        super(FancyMLP, self).__init__(**kwargs)\n",
    "        with self.name_scope():\n",
    "            self.dense = nn.Dense(256)\n",
    "            self.weight = nd.random_uniform(shape=(256, 20))\n",
    "    def forward(self, x):\n",
    "        x = nd.relu(self.dense(x))\n",
    "        x = nd.relu(nd.dot(x, self.weight) + 1)\n",
    "        x = nd.relu(self.dense(x))\n",
    "        return x"
   ]
  },
  {
   "cell_type": "code",
   "execution_count": 24,
   "metadata": {},
   "outputs": [
    {
     "name": "stdout",
     "output_type": "stream",
     "text": [
      "(4, 256)\n"
     ]
    }
   ],
   "source": [
    "fancy_mlp = FancyMLP()\n",
    "fancy_mlp.initialize()\n",
    "y = fancy_mlp(x)\n",
    "print(y.shape)"
   ]
  },
  {
   "cell_type": "code",
   "execution_count": 25,
   "metadata": {
    "scrolled": true
   },
   "outputs": [
    {
     "name": "stdout",
     "output_type": "stream",
     "text": [
      "Sequential(\n",
      "  (0): RecMLP(\n",
      "    (net): Sequential(\n",
      "      (0): Dense(None -> 256, Activation(relu))\n",
      "      (1): Dense(None -> 128, Activation(relu))\n",
      "    )\n",
      "    (dense): Dense(None -> 64, linear)\n",
      "  )\n",
      "  (1): Dense(None -> 10, linear)\n",
      ")\n"
     ]
    }
   ],
   "source": [
    "# nn.Block和nn.Sequential的嵌套使用\n",
    "class RecMLP(nn.Block):\n",
    "    def __init__(self, **kwargs):\n",
    "        super(RecMLP, self).__init__(**kwargs)\n",
    "        self.net = nn.Sequential()\n",
    "        with self.name_scope():\n",
    "            self.net.add(nn.Dense(256, activation='relu'))\n",
    "            self.net.add(nn.Dense(128, activation='relu'))\n",
    "            self.dense = nn.Dense(64)\n",
    "    def forward(self, x):\n",
    "        return nd.relu(self.dense(self.net(x)))\n",
    "\n",
    "rec_mlp = nn.Sequential()\n",
    "rec_mlp.add(RecMLP())\n",
    "rec_mlp.add(nn.Dense(10))\n",
    "print(rec_mlp)"
   ]
  }
 ],
 "metadata": {
  "kernelspec": {
   "display_name": "Python 3",
   "language": "python",
   "name": "python3"
  },
  "language_info": {
   "codemirror_mode": {
    "name": "ipython",
    "version": 3
   },
   "file_extension": ".py",
   "mimetype": "text/x-python",
   "name": "python",
   "nbconvert_exporter": "python",
   "pygments_lexer": "ipython3",
   "version": "3.6.4"
  }
 },
 "nbformat": 4,
 "nbformat_minor": 2
}
