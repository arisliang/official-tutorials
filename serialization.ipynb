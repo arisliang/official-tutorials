{
 "cells": [
  {
   "cell_type": "code",
   "execution_count": 1,
   "metadata": {},
   "outputs": [
    {
     "name": "stderr",
     "output_type": "stream",
     "text": [
      "/home/ly/anaconda3/envs/learning/lib/python3.6/site-packages/h5py/__init__.py:36: FutureWarning: Conversion of the second argument of issubdtype from `float` to `np.floating` is deprecated. In future, it will be treated as `np.float64 == np.dtype(float).type`.\n",
      "  from ._conv import register_converters as _register_converters\n"
     ]
    }
   ],
   "source": [
    "# 读写NDArrays\n",
    "from mxnet import nd\n",
    "\n",
    "x = nd.ones(3)\n",
    "y = nd.zeros(4)\n",
    "\n",
    "filename='data/test1.params'\n",
    "nd.save(filename, [x,y])"
   ]
  },
  {
   "cell_type": "code",
   "execution_count": 2,
   "metadata": {},
   "outputs": [
    {
     "name": "stdout",
     "output_type": "stream",
     "text": [
      "\n",
      "[1. 1. 1.]\n",
      "<NDArray 3 @cpu(0)> \n",
      "[0. 0. 0. 0.]\n",
      "<NDArray 4 @cpu(0)>\n"
     ]
    }
   ],
   "source": [
    "a, b = nd.load(filename)\n",
    "print(a,b)"
   ]
  },
  {
   "cell_type": "code",
   "execution_count": 4,
   "metadata": {},
   "outputs": [],
   "source": [
    "mydict = {'x': x, 'y': y}\n",
    "filename='data/test2.params'\n",
    "nd.save(filename, mydict)"
   ]
  },
  {
   "cell_type": "code",
   "execution_count": 5,
   "metadata": {},
   "outputs": [
    {
     "name": "stdout",
     "output_type": "stream",
     "text": [
      "{'x': \n",
      "[1. 1. 1.]\n",
      "<NDArray 3 @cpu(0)>, 'y': \n",
      "[0. 0. 0. 0.]\n",
      "<NDArray 4 @cpu(0)>}\n"
     ]
    }
   ],
   "source": [
    "c = nd.load(filename)\n",
    "print(c)"
   ]
  },
  {
   "cell_type": "code",
   "execution_count": 18,
   "metadata": {},
   "outputs": [
    {
     "name": "stdout",
     "output_type": "stream",
     "text": [
      "\n",
      "[[0.00055525 0.        ]\n",
      " [0.         0.        ]]\n",
      "<NDArray 2x2 @cpu(0)>\n",
      "Sequential(\n",
      "  (0): Dense(10 -> 10, Activation(relu))\n",
      "  (1): Dense(10 -> 2, Activation(relu))\n",
      ")\n"
     ]
    }
   ],
   "source": [
    "# 读写Gluon模型的参数\n",
    "from mxnet.gluon import nn\n",
    "\n",
    "def get_net():\n",
    "    net = nn.Sequential()\n",
    "    with net.name_scope():\n",
    "        net.add(nn.Dense(10, activation='relu'))\n",
    "        net.add(nn.Dense(2, activation='relu'))\n",
    "    return net\n",
    "\n",
    "net = get_net()\n",
    "net.initialize()\n",
    "x = nd.random.uniform(shape=(2, 10))\n",
    "print(net(x))\n",
    "print(net)"
   ]
  },
  {
   "cell_type": "code",
   "execution_count": 10,
   "metadata": {},
   "outputs": [],
   "source": [
    "filename='data/mlp.params'\n",
    "net.save_params(filename)"
   ]
  },
  {
   "cell_type": "code",
   "execution_count": 19,
   "metadata": {},
   "outputs": [
    {
     "name": "stdout",
     "output_type": "stream",
     "text": [
      "\n",
      "[[0.01211818 0.        ]\n",
      " [0.01011749 0.        ]]\n",
      "<NDArray 2x2 @cpu(0)>\n",
      "Sequential(\n",
      "  (0): Dense(10 -> 10, Activation(relu))\n",
      "  (1): Dense(10 -> 2, Activation(relu))\n",
      ")\n"
     ]
    }
   ],
   "source": [
    "import mxnet as mx\n",
    "\n",
    "net2 = get_net()\n",
    "net2.load_params(filename, mx.cpu())\n",
    "print(net2(x))\n",
    "print(net2)"
   ]
  }
 ],
 "metadata": {
  "kernelspec": {
   "display_name": "Python 3",
   "language": "python",
   "name": "python3"
  },
  "language_info": {
   "codemirror_mode": {
    "name": "ipython",
    "version": 3
   },
   "file_extension": ".py",
   "mimetype": "text/x-python",
   "name": "python",
   "nbconvert_exporter": "python",
   "pygments_lexer": "ipython3",
   "version": "3.6.4"
  }
 },
 "nbformat": 4,
 "nbformat_minor": 2
}
